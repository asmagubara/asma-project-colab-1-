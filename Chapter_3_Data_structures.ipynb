{
  "nbformat": 4,
  "nbformat_minor": 0,
  "metadata": {
    "colab": {
      "provenance": [],
      "collapsed_sections": [],
      "authorship_tag": "ABX9TyMUzrS+KQTtMCIpZ39JslP3",
      "include_colab_link": true
    },
    "kernelspec": {
      "name": "python3",
      "display_name": "Python 3"
    },
    "language_info": {
      "name": "python"
    }
  },
  "cells": [
    {
      "cell_type": "markdown",
      "metadata": {
        "id": "view-in-github",
        "colab_type": "text"
      },
      "source": [
        "<a href=\"https://colab.research.google.com/github/asmagubara/asma-project-colab-1-/blob/main/Chapter_3_Data_structures.ipynb\" target=\"_parent\"><img src=\"https://colab.research.google.com/assets/colab-badge.svg\" alt=\"Open In Colab\"/></a>"
      ]
    },
    {
      "cell_type": "markdown",
      "source": [
        "Exercise 1: Names\n",
        "\n",
        "Store the names of a few of your friends in a list called names. Print each person’s name by accessing each element in the list, one at a time."
      ],
      "metadata": {
        "id": "5r5wVQJC7wxx"
      }
    },
    {
      "cell_type": "code",
      "source": [
        "#input three names of your friends \n",
        "names = ['Tinashe', 'Joelle', 'kristina']\n",
        "#print out the names\n",
        "print(names[0])\n",
        "print(names[1])\n",
        "print(names[2])"
      ],
      "metadata": {
        "colab": {
          "base_uri": "https://localhost:8080/"
        },
        "id": "rHPYEesi9ksv",
        "outputId": "5dfd843b-9a05-4de6-f2a1-df12537d12e8"
      },
      "execution_count": null,
      "outputs": [
        {
          "output_type": "stream",
          "name": "stdout",
          "text": [
            "Tinashe\n",
            "Joelle\n",
            "kristina\n"
          ]
        }
      ]
    },
    {
      "cell_type": "markdown",
      "source": [
        "Exercise 2:Greetings\n",
        "\n",
        "Start with the list you used in Exercise 1, but instead of just printing each person’s name, print a message to them. The text of each message should be the same, but each message should be personalized with the person’s name."
      ],
      "metadata": {
        "id": "L40wchMFBD3N"
      }
    },
    {
      "cell_type": "code",
      "source": [
        "#write a message to each name\n",
        "names = ['Tinashe', 'Joelle', 'kristina']\n",
        "print(\"Good morning, \" + names[0].title() + \"!\")\n",
        "print(\"Hola, \" + names[1].title() + \"!\")\n",
        "print(\"Bonjour, \" + names[2].title() + \"!\")"
      ],
      "metadata": {
        "colab": {
          "base_uri": "https://localhost:8080/"
        },
        "outputId": "bde4351e-3311-45ed-faaf-fb6d43112b90",
        "id": "MsqBVUTJBfhI"
      },
      "execution_count": null,
      "outputs": [
        {
          "output_type": "stream",
          "name": "stdout",
          "text": [
            "Good morning, Tinashe!\n",
            "Hola, Joelle!\n",
            "Bonjour, Kristina!\n"
          ]
        }
      ]
    },
    {
      "cell_type": "markdown",
      "source": [
        "Exercise 3:Your Own List\n",
        "\n",
        "Think of your favorite mode of transportation, such as a motorcycle or a car, and make a list that stores several examples. Use your list to print a series of statements about these items, such as “I would like to own a Honda motorcycle.”"
      ],
      "metadata": {
        "id": "3E3jiHlvDBoN"
      }
    },
    {
      "cell_type": "code",
      "source": [
        "modes_of_transportation = ['range rover', 'suzuki motorcycle', 'train', 'rolls ryce']\n",
        "print(\"I enjoy riding a \"+ modes_of_transportation[0])\n",
        "\n",
        "print(\"I want to have a \"+ modes_of_transportation[1])\n",
        "\n",
        "print(\"I love travelling by a \"+ modes_of_transportation[2])\n",
        "\n",
        "print(\"I hate having a  \"+ modes_of_transportation[2])\n"
      ],
      "metadata": {
        "id": "C7iTj8ljDKhV",
        "colab": {
          "base_uri": "https://localhost:8080/"
        },
        "outputId": "633e85e5-7e9c-45b8-987d-49d76741e22f"
      },
      "execution_count": 10,
      "outputs": [
        {
          "output_type": "stream",
          "name": "stdout",
          "text": [
            "I enjoy riding a range rover\n",
            "I want to have a suzuki motorcycle\n",
            "I love travelling by a train\n",
            "I hate having a  train\n"
          ]
        }
      ]
    },
    {
      "cell_type": "markdown",
      "source": [
        "Exercise 4: Guest List\n",
        "\n",
        "If you could invite anyone, living or deceased, to dinner, who would you invite? Make a list that includes at least three people you’d like to invite to dinner. Then use your list to print a message to each person, inviting them to dinner."
      ],
      "metadata": {
        "id": "50W6juAbGCw8"
      }
    },
    {
      "cell_type": "code",
      "source": [
        "guests = ['Kim kardashian', 'Chris Brown', 'Madison Beer']\n",
        "name = guests[0].title()\n",
        "print(name + \", I would like to invite you to dinner at home.\")\n",
        "\n",
        "name = guests[1].title()\n",
        "print(name + \", I would like to invite you to dinner at home.\")\n",
        "\n",
        "name = guests[2].title()\n",
        "print(name + \",I would like to invite you to dinner at home.\")\n"
      ],
      "metadata": {
        "colab": {
          "base_uri": "https://localhost:8080/"
        },
        "id": "_89PQ-heGV1s",
        "outputId": "d0791de3-e223-4134-a2db-5c798d55ec5f"
      },
      "execution_count": null,
      "outputs": [
        {
          "output_type": "stream",
          "name": "stdout",
          "text": [
            "Kim Kardashian, I would like to invite you to dinner at home.\n",
            "Chris Brown, I would like to invite you to dinner at home.\n",
            "Madison Beer,I would like to invite you to dinner at home.\n"
          ]
        }
      ]
    },
    {
      "cell_type": "markdown",
      "source": [
        "Exercise 5: Change Guest List\n",
        "\n",
        "You just heard that one of your guests can’t make the dinner, so you need to send out a new set of invitations. You’ll have to think of someone else to invite.\n",
        "\n",
        "•Start with your program from Exercise 3-4. Add a print() call at the end of your program stating the name of the guest who can’t make it.\n",
        "\n",
        "•Modify your list, replacing the name of the guest who can’t make it with the name of the new person you are inviting.\n",
        "\n",
        "•Print a second set of invitation messages, one for each person who is still in your list."
      ],
      "metadata": {
        "id": "HStJuxPuilGT"
      }
    },
    {
      "cell_type": "code",
      "source": [
        "#Invite some people for dinner\n",
        "guests = ['Ja rule', 'Cardi b', 'Kelani']\n",
        "\n",
        "name = guests[0].title()\n",
        "print(name + \", please come to dinner.\")\n",
        "\n",
        "name = guests[1].title()\n",
        "print(name + \", please come to dinner.\")\n",
        "\n",
        "name = guests[2].title()\n",
        "print(name + \", please come to dinner.\")\n",
        "\n",
        "name = guests[1].title()\n",
        "print(\"\\nSorry, \" + name + \" can't make it to dinner.\")\n",
        "\n",
        "# Cardi b can't make it! Let's invite Rihanna instead.\n",
        "del(guests[1])\n",
        "guests.insert(1, 'Rihanna')\n",
        "\n",
        "# Print the invitations again\n",
        "name = guests[0].title()\n",
        "print(\"\\n\" + name + \", please come to dinner.\")\n",
        "\n",
        "name = guests[1].title()\n",
        "print(name + \", please come to dinner.\")\n",
        "\n",
        "name = guests[2].title()\n",
        "print(name + \", please come to dinner.\")"
      ],
      "metadata": {
        "colab": {
          "base_uri": "https://localhost:8080/"
        },
        "id": "XmMbffo4iqdq",
        "outputId": "f3c7c281-2f41-4de1-c997-f1072b2395a0"
      },
      "execution_count": null,
      "outputs": [
        {
          "output_type": "stream",
          "name": "stdout",
          "text": [
            "Ja Rule, please come to dinner.\n",
            "Cardi B, please come to dinner.\n",
            "Kelani, please come to dinner.\n",
            "\n",
            "Sorry, Cardi B can't make it to dinner.\n",
            "\n",
            "Ja Rule, please come to dinner.\n",
            "Rihanna, please come to dinner.\n",
            "Kelani, please come to dinner.\n"
          ]
        }
      ]
    },
    {
      "cell_type": "markdown",
      "source": [
        "Exercise 6: Shrinking Guest List\n",
        "\n",
        "You just found out that your new dinner table won’t arrive in time for the dinner, and you have space for only two guests.\n",
        "\n",
        "•Start with your program from Exercise 3-5. Add a new line that prints a message saying that you can invite only two people for dinner.\n",
        "\n",
        "•Use pop() to remove guests from your list one at a time until only two names remain in your list. Each time you pop a name from your list, print a message to that person letting them know you’re sorry you can’t invite them to dinner.\n",
        "\n",
        "•Print a message to each of the two people still on your list, letting them know they’re still invited.\n",
        "\n",
        "•Use del to remove the last two names from your list, so you have an empty list. Print your list to make sure you actually have an empty list at the end of your program.    "
      ],
      "metadata": {
        "id": "wB9aHAaFsO8A"
      }
    },
    {
      "cell_type": "code",
      "source": [
        "#Invite some guests to the dinner\n",
        "guests = ['marieh carey', 'brad pit','justin Beiber']\n",
        "\n",
        "name = guests[0].title()\n",
        "print(f\"{name}, please come to dinner.\")\n",
        "\n",
        "name = guests[1].title()\n",
        "print(f\"{name}, please come to dinner.\")\n",
        "\n",
        "name = guests[2].title()\n",
        "print(f\"{name}, please come to dinner.\")\n",
        "\n",
        "name = guests[1].title()\n",
        "print(f\"\\nSorry, {name} can't make it to dinner.\")\n",
        "\n",
        "# Brad pit cant make it to dinner so ill invite Lori Harvey instead.\n",
        "del(guests[1])\n",
        "guests.insert(1, 'lori harvey')\n",
        "\n",
        "# Print the invitations again.\n",
        "name = guests[0].title()\n",
        "print(f\"\\n{name}, please come to dinner.\")\n",
        "\n",
        "name = guests[1].title()\n",
        "print(f\"\\n{name}, please come to dinner.\")\n",
        "\n",
        "name = guests[2].title()\n",
        "print(f\"\\n{name}, please come to dinner.\")\n",
        "\n",
        "# We've got a bigger table, so let's invite some more people to the list.\n",
        "print(\"\\nWe got a bigger table!\")\n",
        "guests.insert(0, 'travis scott')\n",
        "guests.insert(2, 'drake ')\n",
        "guests.append('taylor swift')\n",
        "\n",
        "name = guests[0].title()\n",
        "print(f\"{name}, please come to dinner.\")\n",
        "\n",
        "name = guests[1].title()\n",
        "print(f\"{name}, please come to dinner.\")\n",
        "\n",
        "name = guests[2].title()\n",
        "print(f\"{name}, please come to dinner.\")\n",
        "\n",
        "name = guests[3].title()\n",
        "print(f\"{name}, please come to dinner.\")\n",
        "\n",
        "name = guests[4].title()\n",
        "print(f\"{name}, please come to dinner.\")\n",
        "\n",
        "name = guests[5].title()\n",
        "print(f\"{name}, please come to dinner.\")\n",
        "\n",
        "# opss the table wont be able to arrive in time\n",
        "print(\"\\nSorry, we can only invite two people to dinner.\")\n",
        "\n",
        "name = guests.pop()\n",
        "print(f\"Sorry, {name.title()} there's no space in the table.\")\n",
        "\n",
        "name = guests.pop()\n",
        "print(f\"Sorry, {name.title()} there's no room at the table.\")\n",
        "\n",
        "name = guests.pop()\n",
        "print(f\"Sorry, {name.title()} there's no room at the table.\")\n",
        "\n",
        "name = guests.pop()\n",
        "print(f\"Sorry, {name.title()} there's no room at the table.\")\n",
        "\n",
        "# There should be two people left. Let's invite them.\n",
        "name = guests[0].title()\n",
        "print(f\"{name}, please come to dinner.\")\n",
        "\n",
        "name = guests[1].title()\n",
        "print(f\"{name}, please come to dinner.\")\n",
        "\n",
        "# Empty out the list.\n",
        "del(guests[0])\n",
        "del(guests[0])\n",
        "\n",
        "# Prove the list is empty.\n",
        "print(guests)\n",
        "\n",
        "\n"
      ],
      "metadata": {
        "colab": {
          "base_uri": "https://localhost:8080/"
        },
        "id": "oL0Q7mRgsbxK",
        "outputId": "c8d16f47-bfb2-4013-c682-377811f95e71"
      },
      "execution_count": null,
      "outputs": [
        {
          "output_type": "stream",
          "name": "stdout",
          "text": [
            "Marieh Carey, please come to dinner.\n",
            "Brad Pit, please come to dinner.\n",
            "Justin Beiber, please come to dinner.\n",
            "\n",
            "Sorry, Brad Pit can't make it to dinner.\n",
            "\n",
            "Marieh Carey, please come to dinner.\n",
            "\n",
            "Lori Harvey, please come to dinner.\n",
            "\n",
            "Justin Beiber, please come to dinner.\n",
            "\n",
            "We got a bigger table!\n",
            "Travis Scott, please come to dinner.\n",
            "Marieh Carey, please come to dinner.\n",
            "Drake , please come to dinner.\n",
            "Lori Harvey, please come to dinner.\n",
            "Justin Beiber, please come to dinner.\n",
            "Taylor Swift, please come to dinner.\n",
            "\n",
            "Sorry, we can only invite two people to dinner.\n",
            "Sorry, Taylor Swift there's no space in the table.\n",
            "Sorry, Justin Beiber there's no room at the table.\n",
            "Sorry, Lori Harvey there's no room at the table.\n",
            "Sorry, Drake  there's no room at the table.\n",
            "Travis Scott, please come to dinner.\n",
            "Marieh Carey, please come to dinner.\n",
            "[]\n"
          ]
        }
      ]
    },
    {
      "cell_type": "markdown",
      "source": [
        "Exercise 7: Seeing the World \n",
        "\n",
        "Think of at least five places in the world you’d like to visit. • Store the locations in a list. Make sure the list is not in alphabetical order.\n",
        "\n",
        "• Print your list in its original order. Don’t worry about printing the list neatly,just print it as a raw Python list.\n",
        "\n",
        "• Use sorted() to print your list in alphabetical order without modifying the actual list.\n",
        "\n",
        "• Show that your list is still in its original order by printing it.\n",
        "\n",
        "• Use sorted() to print your list in reverse alphabetical order without changing the order of the original list.\n",
        "\n",
        "• Show that your list is still in its original order by printing it again.\n",
        "\n",
        "• Use reverse() to change the order of your list. Print the list to show that its order has changed.\n",
        "\n",
        "• Use reverse() to change the order of your list again. Print the list to show it’s back to its original order.\n",
        "\n",
        "• Use sort() to change your list so it’s stored in alphabetical order. Print the list to show that its order has been changed.\n",
        "\n",
        "• Use sort() to change your list so it’s stored in reverse alphabetical order. Print the list to show that its order has changed."
      ],
      "metadata": {
        "id": "iuyqvcZ_zSTI"
      }
    },
    {
      "cell_type": "code",
      "source": [
        "destinations = ['istanbul', 'cape town', 'florence', 'rio de janeiro', 'tokyo']\n",
        "\n",
        "print(\"Original order:\")\n",
        "print(destinations)\n",
        "\n",
        "print(\"\\nAlphabetical:\")\n",
        "print(sorted(destinations))\n",
        "\n",
        "print(\"\\nOriginal order:\")\n",
        "print(destinations)\n",
        "\n",
        "print(\"\\nReverse alphabetical:\")\n",
        "print(sorted(destinations, reverse=True))\n",
        "\n",
        "print(\"\\nOriginal order:\")\n",
        "print(destinations)\n",
        "\n",
        "print(\"\\nReversed:\")\n",
        "destinations.reverse()\n",
        "print(destinations)\n",
        "\n",
        "print(\"\\nOriginal order:\")\n",
        "destinations.reverse()\n",
        "print(destinations)\n",
        "\n",
        "print(\"\\nAlphabetical\")\n",
        "destinations.sort()\n",
        "print(destinations)\n",
        "\n",
        "print(\"\\nReverse alphabetical\")\n",
        "destinations.sort(reverse=True)\n",
        "print(destinations)"
      ],
      "metadata": {
        "colab": {
          "base_uri": "https://localhost:8080/"
        },
        "id": "XGdTZCv8zc4k",
        "outputId": "d58b4500-aa0a-47d5-ab87-82227a0f5dce"
      },
      "execution_count": null,
      "outputs": [
        {
          "output_type": "stream",
          "name": "stdout",
          "text": [
            "Original order:\n",
            "['istanbul', 'cape town', 'florence', 'rio de janeiro', 'tokyo']\n",
            "\n",
            "Alphabetical:\n",
            "['cape town', 'florence', 'istanbul', 'rio de janeiro', 'tokyo']\n",
            "\n",
            "Original order:\n",
            "['istanbul', 'cape town', 'florence', 'rio de janeiro', 'tokyo']\n",
            "\n",
            "Reverse alphabetical:\n",
            "['tokyo', 'rio de janeiro', 'istanbul', 'florence', 'cape town']\n",
            "\n",
            "Original order:\n",
            "['istanbul', 'cape town', 'florence', 'rio de janeiro', 'tokyo']\n",
            "\n",
            "Reversed:\n",
            "['tokyo', 'rio de janeiro', 'florence', 'cape town', 'istanbul']\n",
            "\n",
            "Original order:\n",
            "['istanbul', 'cape town', 'florence', 'rio de janeiro', 'tokyo']\n",
            "\n",
            "Alphabetical\n",
            "['cape town', 'florence', 'istanbul', 'rio de janeiro', 'tokyo']\n",
            "\n",
            "Reverse alphabetical\n",
            "['tokyo', 'rio de janeiro', 'istanbul', 'florence', 'cape town']\n"
          ]
        }
      ]
    }
  ]
}