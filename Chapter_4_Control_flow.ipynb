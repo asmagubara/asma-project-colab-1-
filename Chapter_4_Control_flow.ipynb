{
  "nbformat": 4,
  "nbformat_minor": 0,
  "metadata": {
    "colab": {
      "provenance": [],
      "collapsed_sections": [],
      "authorship_tag": "ABX9TyNECQUPT8bN/JRMLTRcRsEw",
      "include_colab_link": true
    },
    "kernelspec": {
      "name": "python3",
      "display_name": "Python 3"
    },
    "language_info": {
      "name": "python"
    }
  },
  "cells": [
    {
      "cell_type": "markdown",
      "metadata": {
        "id": "view-in-github",
        "colab_type": "text"
      },
      "source": [
        "<a href=\"https://colab.research.google.com/github/asmagubara/asma-project-colab-1-/blob/main/Chapter_4_Control_flow.ipynb\" target=\"_parent\"><img src=\"https://colab.research.google.com/assets/colab-badge.svg\" alt=\"Open In Colab\"/></a>"
      ]
    },
    {
      "cell_type": "markdown",
      "source": [
        "Exercise 1:  Alien Colors #1\n",
        "\n",
        "Imagine an alien was just shot down in a game. Create a variable called alien_color and assign it a value of 'green', 'yellow', or 'red'.\n",
        "\n",
        "•Write an if statement to test whether the alien’s color is green. If it is, print a message that the player just earned 5 points.\n",
        "\n",
        "•Write one version of this program that passes the if test and another that fails. (The version that fails will have no output.)\n"
      ],
      "metadata": {
        "id": "KGFQ9qzn5MhJ"
      }
    },
    {
      "cell_type": "code",
      "source": [
        "#input the color needed\n",
        "alien_color = 'green'\n",
        "if alien_color =='green':\n",
        "  print(\"you just earned 5 point!\")\n"
      ],
      "metadata": {
        "colab": {
          "base_uri": "https://localhost:8080/"
        },
        "id": "e1w0TmZB5UIT",
        "outputId": "92c81a5d-259c-4ecb-b7e8-0d1071b3ef64"
      },
      "execution_count": null,
      "outputs": [
        {
          "output_type": "stream",
          "name": "stdout",
          "text": [
            "you just earned 5 point!\n"
          ]
        }
      ]
    },
    {
      "cell_type": "markdown",
      "source": [
        "Exercise 2: Alien Colors#2\n",
        "\n",
        "Choose a color for an alien as you did in Exercise 5-3, and write an if-else chain.\n",
        "\n",
        "•If the alien’s color is green, print a statement that the player just earned 5 points for shooting the alien.\n",
        "\n",
        "•If the alien’s color isn’t green, print a statement that the player just earned 10 points.\n",
        "\n",
        "•Write one version of this program that runs the if block and another that runs the else block.\n"
      ],
      "metadata": {
        "id": "om-DQTfgiVll"
      }
    },
    {
      "cell_type": "code",
      "source": [
        "alien_color = 'green'\n",
        "if alien_color == 'green':\n",
        "    print(\"You just earned 5 points!\")\n",
        "else:\n",
        "    print(\"You just earned 10 points!\")\n",
        "\n",
        "alien_color = 'yellow'\n",
        "if alien_color == 'green':\n",
        "  print(\"You just earned 5 points!\")\n",
        "else:\n",
        "  print(\"You just earned 10 points!\")"
      ],
      "metadata": {
        "colab": {
          "base_uri": "https://localhost:8080/"
        },
        "id": "RRpVHaXgjQ_9",
        "outputId": "763c2f3d-5f02-4eab-ad7e-3ca134fd3af7"
      },
      "execution_count": null,
      "outputs": [
        {
          "output_type": "stream",
          "name": "stdout",
          "text": [
            "You just earned 5 points!\n",
            "You just earned 10 points!\n"
          ]
        }
      ]
    },
    {
      "cell_type": "markdown",
      "source": [
        "Exercise 3: Alien color#3\n",
        "\n",
        "Turn your if-else chain from Exercise 5-4 into an if-elifelse chain.\n",
        "\n",
        "• If the alien is green, print a message that the player earned 5 points.\n",
        "\n",
        "• If the alien is yellow, print a message that the player earned 10 points.\n",
        "\n",
        "• If the alien is red, print a message that the player earned 15 points.\n",
        "\n",
        "• Write three versions of this program, making sure each message is printed for the appropriate color alien.\n",
        "\n",
        "   "
      ],
      "metadata": {
        "id": "l94eitvJ9Gez"
      }
    },
    {
      "cell_type": "code",
      "source": [
        "alien_color = 'red'\n",
        "#input the if function\n",
        "if alien_color == 'green':\n",
        "    print(\"You just earned 5 points!\")\n",
        "elif alien_color == 'yellow':\n",
        "    print(\"You just earned 10 points!\")\n",
        "else:\n",
        "    print(\"You just earned 15 points!\")\n"
      ],
      "metadata": {
        "colab": {
          "base_uri": "https://localhost:8080/"
        },
        "id": "QZfjUKFf-6iZ",
        "outputId": "1ce7e68a-f26a-45d8-d797-6f0d173561a3"
      },
      "execution_count": null,
      "outputs": [
        {
          "output_type": "stream",
          "name": "stdout",
          "text": [
            "You just earned 15 points!\n"
          ]
        }
      ]
    },
    {
      "cell_type": "markdown",
      "source": [
        "Exercise 4:Stages of life\n",
        "\n",
        "Write an if-elif-else chain that determines a person’s stage of life. Set a value for the variable age, and then:\n",
        "\n",
        "•If the person is less than 2 years old, print a message that the person is a baby.\n",
        "\n",
        "•If the person is at least 2 years old but less than 4, print a message that the person is a toddler.\n",
        "\n",
        "•If the person is at least 4 years old but less than 13, print a message that the person is a kid.\n",
        "\n",
        "•If the person is at least 13 years old but less than 20, print a message that the person is a teenager.\n",
        "\n",
        "•If the person is at least 20 years old but less than 65, print a message that the person is an adult.\n",
        "\n",
        "•If the person is age 65 or older, print a message that the person is an elder."
      ],
      "metadata": {
        "id": "QCN_QEtzBLJV"
      }
    },
    {
      "cell_type": "code",
      "source": [
        "#write your age\n",
        "age = 17\n",
        "\n",
        "if age < 2:\n",
        "    print(\"You're a baby!\")\n",
        "elif age < 4:\n",
        "    print(\"You're a toddler!\")\n",
        "elif age < 13:\n",
        "    print(\"You're a kid!\")\n",
        "elif age < 20:\n",
        "    print(\"You're a teenager!\")\n",
        "elif age < 65:\n",
        "    print(\"You're an adult!\")\n",
        "else:\n",
        "    print(\"You're an elder!\")"
      ],
      "metadata": {
        "colab": {
          "base_uri": "https://localhost:8080/"
        },
        "id": "XLXPqeI_lqvd",
        "outputId": "b1bb1bde-9fbf-4c01-c3b0-0445bafffc5b"
      },
      "execution_count": 1,
      "outputs": [
        {
          "output_type": "stream",
          "name": "stdout",
          "text": [
            "You're a teenager!\n"
          ]
        }
      ]
    },
    {
      "cell_type": "markdown",
      "source": [
        "Exercise 5: Favorite Fruit\n",
        "\n",
        "Make a list of your favorite fruits, and then write a series of independent if statements that check for certain fruits in your list.\n",
        "\n",
        "•Make a list of your three favorite fruits and call it favorite_fruits.\n",
        "\n",
        "•Write five if statements. Each should check whether a certain kind of fruit is in your list. If the fruit is in your list, the if block \n",
        "\n",
        "should print a statement,such as You really like bananas!"
      ],
      "metadata": {
        "id": "5UUektj-ltYl"
      }
    },
    {
      "cell_type": "code",
      "source": [
        "#write down your favorite fruits\n",
        "favorite_fruits = ['bananas', 'blueberries', 'peaches']\n",
        "if 'mango' in favorite_fruits:\n",
        "    print(\"You really like mango!\")\n",
        "if 'dragoon fruit' in favorite_fruits:\n",
        "  print(\"You really like mango!\")\n",
        "if 'blueberries' in favorite_fruits:\n",
        "  print(\"You really like blueberries!\")\n",
        "if 'watermelon' in favorite_fruits:\n",
        "  print(\"You really like watermelons\")\n",
        "if 'peaches' in favorite_fruits:\n",
        "  print(\"You really like peaches!\")"
      ],
      "metadata": {
        "colab": {
          "base_uri": "https://localhost:8080/"
        },
        "id": "U4SaSQEml3Wl",
        "outputId": "25eca320-1583-4aa5-b30c-bcfffe67104b"
      },
      "execution_count": 2,
      "outputs": [
        {
          "output_type": "stream",
          "name": "stdout",
          "text": [
            "You really like blueberries!\n",
            "You really like peaches!\n"
          ]
        }
      ]
    }
  ]
}