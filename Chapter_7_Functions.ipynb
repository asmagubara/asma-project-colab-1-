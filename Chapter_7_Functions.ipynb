{
  "nbformat": 4,
  "nbformat_minor": 0,
  "metadata": {
    "colab": {
      "provenance": [],
      "collapsed_sections": [],
      "authorship_tag": "ABX9TyPqB3CQgZXYrrI5WEVRJXCi",
      "include_colab_link": true
    },
    "kernelspec": {
      "name": "python3",
      "display_name": "Python 3"
    },
    "language_info": {
      "name": "python"
    }
  },
  "cells": [
    {
      "cell_type": "markdown",
      "metadata": {
        "id": "view-in-github",
        "colab_type": "text"
      },
      "source": [
        "<a href=\"https://colab.research.google.com/github/asmagubara/asma-project-colab-1-/blob/main/Chapter_7_Functions.ipynb\" target=\"_parent\"><img src=\"https://colab.research.google.com/assets/colab-badge.svg\" alt=\"Open In Colab\"/></a>"
      ]
    },
    {
      "cell_type": "markdown",
      "source": [
        "Exercise 1: Message\n",
        "\n",
        "Write a function called display_message() that prints one sentence telling everyone what you are learning about in this chapter. Call the\n",
        "\n",
        "function, and make sure the message displays correctly."
      ],
      "metadata": {
        "id": "x9pLK-Sb65F0"
      }
    },
    {
      "cell_type": "code",
      "source": [
        "def display_message():\n",
        "#write a message to show what you are learing\n",
        " message = \"Im learing how to store functions in a message.\"\n",
        " print(message)\n",
        "display_message()"
      ],
      "metadata": {
        "colab": {
          "base_uri": "https://localhost:8080/"
        },
        "id": "J5a_8o7S69FE",
        "outputId": "dac96291-a7e5-449d-d0ed-b9d59cc89d35"
      },
      "execution_count": null,
      "outputs": [
        {
          "output_type": "stream",
          "name": "stdout",
          "text": [
            "Im learing how to store functions in a message.\n"
          ]
        }
      ]
    },
    {
      "cell_type": "markdown",
      "source": [
        "Exercise 2: Favorite Book\n",
        "\n",
        "Write a function called favorite_book() that accepts one parameter, title. The function should print a message, such as One of my\n",
        "\n",
        "favorite books is Alice in Wonderland. Call the function, making sure to include a book title as an argument in the function call."
      ],
      "metadata": {
        "id": "fkzhzD8z7xd7"
      }
    },
    {
      "cell_type": "code",
      "source": [
        "def favorite_book(title):\n",
        "#write a famous favorite book of yours\n",
        "    print(f\"{title} is one of my favorite books that ive read.\")\n",
        "favorite_book('To all the boys i loved beofre')"
      ],
      "metadata": {
        "colab": {
          "base_uri": "https://localhost:8080/"
        },
        "id": "L4P3hdxQ8GIM",
        "outputId": "f771270d-3e82-4a25-b69d-522b651bbf17"
      },
      "execution_count": null,
      "outputs": [
        {
          "output_type": "stream",
          "name": "stdout",
          "text": [
            "To all the boys i loved beofre is one of my favorite books that ive read.\n"
          ]
        }
      ]
    },
    {
      "cell_type": "markdown",
      "source": [
        "Exercise 3: T-Shirt \n",
        "\n",
        "Write a function called make_shirt() that accepts a size and the text of a message that should be printed on the shirt. The function\n",
        "\n",
        "should print a sentence summarizing the size of the shirt and the message printed on it. Call the function once using positional\n",
        "\n",
        "arguments to make a shirt. Call the function a second time using keyword arguments."
      ],
      "metadata": {
        "id": "wn36Eek-89C8"
      }
    },
    {
      "cell_type": "code",
      "source": [
        "def make_shirt(size, message):\n",
        "#write down the shirts that need to be made \n",
        "    print(f\"\\nI'll be making a {size} t-shirt.\")\n",
        "    print(f'It will be wrriten, \"{message}\"')\n",
        "make_shirt('large', 'You only live once!')\n",
        "make_shirt(message=\"Stay strong.\", size='medium')"
      ],
      "metadata": {
        "colab": {
          "base_uri": "https://localhost:8080/"
        },
        "id": "kgmbYxYB9Fe8",
        "outputId": "a2f4360f-970e-4a2e-b5bf-8e3f3031bd0b"
      },
      "execution_count": null,
      "outputs": [
        {
          "output_type": "stream",
          "name": "stdout",
          "text": [
            "\n",
            "I'll be making a large t-shirt.\n",
            "It will be wrriten, \"You only live once!\"\n",
            "\n",
            "I'll be making a medium t-shirt.\n",
            "It will be wrriten, \"Stay strong.\"\n"
          ]
        }
      ]
    },
    {
      "cell_type": "markdown",
      "source": [
        "Exercise 4: Large Shirts\n",
        "\n",
        "Modify the make_shirt() function so that shirts are large by default with a message that reads I love Python. Make a large shirt and a\n",
        "\n",
        "medium shirt with the default message, and a shirt of any size with a different message."
      ],
      "metadata": {
        "id": "bJP6vX-y-dKV"
      }
    },
    {
      "cell_type": "code",
      "source": [
        "def make_shirt(size='large', message='You only live once.'):\n",
        "#write down the chnages needed\n",
        "   print(f\"\\nI'll be making a {size} t-shirt.\")\n",
        "   print(f'It will be written, \"{message}\"')\n",
        "make_shirt()\n",
        "make_shirt(size='medium')\n",
        "make_shirt('small', 'Keep calm and stay focused.')\n",
        "\n"
      ],
      "metadata": {
        "colab": {
          "base_uri": "https://localhost:8080/"
        },
        "id": "1BDbkp2j-iRb",
        "outputId": "abacf6c0-07e3-479f-9e1d-dd4b680c40aa"
      },
      "execution_count": null,
      "outputs": [
        {
          "output_type": "stream",
          "name": "stdout",
          "text": [
            "\n",
            "I'll be making a large t-shirt.\n",
            "It will be written, \"You only live once.\"\n",
            "\n",
            "I'll be making a medium t-shirt.\n",
            "It will be written, \"You only live once.\"\n",
            "\n",
            "I'll be making a small t-shirt.\n",
            "It will be written, \"Keep calm and stay focused.\"\n"
          ]
        }
      ]
    },
    {
      "cell_type": "markdown",
      "source": [
        "Exercise 5: Cities\n",
        "\n",
        "Write a function called describe_city() that accepts the name of a city and its country. The function should print a simple sentence,\n",
        "\n",
        "such as Reykjavik is in Iceland. Give the parameter for the country a default value.\n",
        "\n",
        "Call your function for three different cities, at least one of which is not in the default country.\n",
        "\n",
        "   "
      ],
      "metadata": {
        "id": "YNaRHs6lATB8"
      }
    },
    {
      "cell_type": "code",
      "source": [
        "def describe_city(city, country='japan'):\n",
        "#choose a city and their country\n",
        "   message = f\"{city.title()} is in {country.title()}.\"\n",
        "   print(message)\n",
        "describe_city('tokyo')\n",
        "describe_city('bangkok','thailand')\n",
        "describe_city('london')"
      ],
      "metadata": {
        "colab": {
          "base_uri": "https://localhost:8080/"
        },
        "id": "bvsJFyrIAYJD",
        "outputId": "244fcc20-3ee7-404f-cb9b-5437271d51dd"
      },
      "execution_count": null,
      "outputs": [
        {
          "output_type": "stream",
          "name": "stdout",
          "text": [
            "Tokyo is in Japan.\n",
            "Bangkok is in Thailand.\n",
            "London is in Japan.\n"
          ]
        }
      ]
    }
  ]
}