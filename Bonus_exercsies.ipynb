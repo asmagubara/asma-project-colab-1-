{
  "nbformat": 4,
  "nbformat_minor": 0,
  "metadata": {
    "colab": {
      "provenance": [],
      "collapsed_sections": [],
      "authorship_tag": "ABX9TyNaPXDE4Op6apqeMK0ot2Q9",
      "include_colab_link": true
    },
    "kernelspec": {
      "name": "python3",
      "display_name": "Python 3"
    },
    "language_info": {
      "name": "python"
    }
  },
  "cells": [
    {
      "cell_type": "markdown",
      "metadata": {
        "id": "view-in-github",
        "colab_type": "text"
      },
      "source": [
        "<a href=\"https://colab.research.google.com/github/asmagubara/asma-project-colab-1-/blob/main/Bonus_exercsies.ipynb\" target=\"_parent\"><img src=\"https://colab.research.google.com/assets/colab-badge.svg\" alt=\"Open In Colab\"/></a>"
      ]
    },
    {
      "cell_type": "code",
      "source": [
        "2 + 2"
      ],
      "metadata": {
        "colab": {
          "base_uri": "https://localhost:8080/"
        },
        "id": "gLf53gmJwRve",
        "outputId": "b0c9c029-219f-4480-bb81-5b043f5967ff"
      },
      "execution_count": null,
      "outputs": [
        {
          "output_type": "execute_result",
          "data": {
            "text/plain": [
              "4"
            ]
          },
          "metadata": {},
          "execution_count": 1
        }
      ]
    },
    {
      "cell_type": "markdown",
      "source": [
        "strings:"
      ],
      "metadata": {
        "id": "k2pddVX-yQr1"
      }
    },
    {
      "cell_type": "code",
      "source": [
        "#wokring with strings\n",
        "sentence1='Today is 6th October, 2022, Thursday.'\n",
        "print(sentence1)\n",
        "print(sentence1[0])\n",
        "print(sentence1[0:5])\n",
        "print(sentence1[4:])\n",
        "print(sentence1*2)\n"
      ],
      "metadata": {
        "colab": {
          "base_uri": "https://localhost:8080/"
        },
        "id": "fkr9lzspyX6l",
        "outputId": "19ca4a9c-b835-45e9-c12f-063b443fc66f"
      },
      "execution_count": null,
      "outputs": [
        {
          "output_type": "stream",
          "name": "stdout",
          "text": [
            "Today is 6th October, 2022, Thursday.\n",
            "T\n",
            "Today\n",
            "y is 6th October, 2022, Thursday.\n",
            "Today is 6th October, 2022, Thursday.Today is 6th October, 2022, Thursday.\n"
          ]
        }
      ]
    },
    {
      "cell_type": "code",
      "source": [
        "#use of type() function in python –The type () function is used to get the type of an object\n",
        "x=5\n",
        "y=3.14\n",
        "z=0.2+3j\n",
        "word='hello'\n",
        "sentence='Today is Thursday'\n",
        "\n",
        "print(type(x))\n",
        "print(type(y))\n",
        "print(type(z))\n",
        "print(type(word))\n",
        "print(type(sentence))"
      ],
      "metadata": {
        "colab": {
          "base_uri": "https://localhost:8080/"
        },
        "id": "7aASG8yG1DD0",
        "outputId": "52ab4079-234a-4cd6-e4a0-c3b11ff5a436"
      },
      "execution_count": null,
      "outputs": [
        {
          "output_type": "stream",
          "name": "stdout",
          "text": [
            "<class 'int'>\n",
            "<class 'float'>\n",
            "<class 'complex'>\n",
            "<class 'str'>\n",
            "<class 'str'>\n"
          ]
        }
      ]
    },
    {
      "cell_type": "markdown",
      "source": [
        "Input() function:"
      ],
      "metadata": {
        "id": "QsTFmvM71tUM"
      }
    },
    {
      "cell_type": "code",
      "source": [
        "#use input() function to work with their user defined variables\n",
        "print('Please Enter the side of a square:')\n",
        "side=int(input())\n",
        "print('Sides of the square=',side)\n",
        "print('The area of a square with side '+str(side) + ' units= '+ str(side**2)+ ' sq units')"
      ],
      "metadata": {
        "colab": {
          "base_uri": "https://localhost:8080/"
        },
        "id": "geAgEijP1yrM",
        "outputId": "c6377e02-59ed-4ad6-e3dc-1c392c6702f0"
      },
      "execution_count": null,
      "outputs": [
        {
          "output_type": "stream",
          "name": "stdout",
          "text": [
            "Please Enter the side of a square:\n",
            "10\n",
            "Sides of the square= 10\n",
            "The area of a square with side 10 units= 100 sq units\n"
          ]
        }
      ]
    },
    {
      "cell_type": "markdown",
      "source": [
        "To find the raduis of a cicle"
      ],
      "metadata": {
        "id": "vYCcAsbn4ElD"
      }
    },
    {
      "cell_type": "code",
      "source": [
        "PI=3.142\n",
        "print('Enter the radius of circle:')\n",
        "r=int(input())\n",
        "\n",
        "print('The area of the circle with radius '+str(r)+' units=: '+str(PI*r**2)+' sq units')\n"
      ],
      "metadata": {
        "colab": {
          "base_uri": "https://localhost:8080/"
        },
        "id": "weaVeWgp3nh9",
        "outputId": "c62c512e-2718-483b-94d1-d0991c0621fe"
      },
      "execution_count": null,
      "outputs": [
        {
          "output_type": "stream",
          "name": "stdout",
          "text": [
            "Enter the radius of circle:\n",
            "6\n",
            "The area of the circle with radius 6 units=: 113.112 sq units\n"
          ]
        }
      ]
    },
    {
      "cell_type": "markdown",
      "source": [
        "Arithmetic Operations: \n",
        "\n",
        "addition subtraction multipliction division modulas(percentage) power"
      ],
      "metadata": {
        "id": "v5i_z6jQnn46"
      }
    },
    {
      "cell_type": "code",
      "source": [
        "#get 2 numbers from the user\n",
        "print ('Enter 2 numbers')\n",
        "a=int(input())\n",
        "b=int(input())"
      ],
      "metadata": {
        "colab": {
          "base_uri": "https://localhost:8080/"
        },
        "id": "DYXnlbZmnq6V",
        "outputId": "d11cfe18-e365-4a55-b56f-38fb03c686a3"
      },
      "execution_count": 2,
      "outputs": [
        {
          "name": "stdout",
          "output_type": "stream",
          "text": [
            "Enter 2 numbers\n",
            "45\n",
            "5\n"
          ]
        }
      ]
    },
    {
      "cell_type": "code",
      "source": [
        "#calculate and print the results\n",
        "print('The addition of '+str(a)+' and '+str(b)+' is '+str(a+b))"
      ],
      "metadata": {
        "colab": {
          "base_uri": "https://localhost:8080/"
        },
        "id": "xXQAG-XKoayr",
        "outputId": "6baff15e-8258-4479-f9eb-bd8a1c5dae51"
      },
      "execution_count": 3,
      "outputs": [
        {
          "output_type": "stream",
          "name": "stdout",
          "text": [
            "The addition of 45 and 5 is 50\n"
          ]
        }
      ]
    },
    {
      "cell_type": "code",
      "source": [
        "print('The substraction of '+str(a)+' and '+str(b)+' is '+str(a-b))"
      ],
      "metadata": {
        "colab": {
          "base_uri": "https://localhost:8080/"
        },
        "id": "kuv4wmA0ohEm",
        "outputId": "912651a3-2374-4f57-9aa7-f1e840cdea09"
      },
      "execution_count": 4,
      "outputs": [
        {
          "output_type": "stream",
          "name": "stdout",
          "text": [
            "The substraction of 45 and 5 is 40\n"
          ]
        }
      ]
    },
    {
      "cell_type": "code",
      "source": [
        "print('The multiplication of '+str(a)+' and '+str(b)+' is '+str(a*b))"
      ],
      "metadata": {
        "colab": {
          "base_uri": "https://localhost:8080/"
        },
        "id": "6Hh6X5Sdokg6",
        "outputId": "7b5caddc-b8c3-4e44-9f71-d623c05a88de"
      },
      "execution_count": 5,
      "outputs": [
        {
          "output_type": "stream",
          "name": "stdout",
          "text": [
            "The multiplication of 45 and 5 is 225\n"
          ]
        }
      ]
    },
    {
      "cell_type": "code",
      "source": [
        "print('The division of '+str(a)+' and '+str(b)+' is '+str(a/b))"
      ],
      "metadata": {
        "colab": {
          "base_uri": "https://localhost:8080/"
        },
        "id": "ranevNiIonSb",
        "outputId": "02f10fb9-223c-4945-c581-6232e9e6ab93"
      },
      "execution_count": 6,
      "outputs": [
        {
          "output_type": "stream",
          "name": "stdout",
          "text": [
            "The division of 45 and 5 is 9.0\n"
          ]
        }
      ]
    },
    {
      "cell_type": "code",
      "source": [
        "print('The modulus of '+str(a)+' and '+str(b)+' is '+str(a%b))"
      ],
      "metadata": {
        "colab": {
          "base_uri": "https://localhost:8080/"
        },
        "id": "N82YrYWjotKI",
        "outputId": "ace2afa4-e890-45a9-8751-4cda36a9e5e3"
      },
      "execution_count": 7,
      "outputs": [
        {
          "output_type": "stream",
          "name": "stdout",
          "text": [
            "The modulus of 45 and 5 is 0\n"
          ]
        }
      ]
    },
    {
      "cell_type": "code",
      "source": [
        "print('The power of '+str(a)+' and '+str(b)+' is '+str(a**b))"
      ],
      "metadata": {
        "colab": {
          "base_uri": "https://localhost:8080/"
        },
        "id": "FqhY8KBKoxv1",
        "outputId": "5ec3cdbc-9fee-4fc6-85b6-9b4b59bd1d43"
      },
      "execution_count": 8,
      "outputs": [
        {
          "output_type": "stream",
          "name": "stdout",
          "text": [
            "The power of 45 and 5 is 184528125\n"
          ]
        }
      ]
    },
    {
      "cell_type": "markdown",
      "source": [
        "Logical operation: \n",
        "\n",
        "and, or, not"
      ],
      "metadata": {
        "id": "Ql7ii8eDo3mM"
      }
    },
    {
      "cell_type": "code",
      "source": [
        "x = True\n",
        "y = False\n",
        "print('x and y is',x and y)"
      ],
      "metadata": {
        "colab": {
          "base_uri": "https://localhost:8080/"
        },
        "id": "bF1TumiHo-9A",
        "outputId": "754e839d-8394-46dc-89b6-1ee8d34411ee"
      },
      "execution_count": 12,
      "outputs": [
        {
          "output_type": "stream",
          "name": "stdout",
          "text": [
            "x and y is False\n"
          ]
        }
      ]
    },
    {
      "cell_type": "markdown",
      "source": [
        "Identity operators:\n",
        "\n",
        " is and is not"
      ],
      "metadata": {
        "id": "NIMLg9FQtHsV"
      }
    },
    {
      "cell_type": "code",
      "source": [
        "x1 = 5\n",
        "y2 = 5\n",
        "x2 = 'Hello'\n",
        "y2 = 'Hello'\n",
        "x3 = [1,2,3]\n",
        "y3 = [1,2,3]\n",
        "\n",
        "# Output : false\n",
        "print(x1 is not x2)\n",
        "\n",
        "# Output : True\n",
        "print(x2 is y2)\n",
        "\n",
        "# Output : False\n",
        "print(x3 is y3)"
      ],
      "metadata": {
        "colab": {
          "base_uri": "https://localhost:8080/"
        },
        "id": "oGr7RcGrtMWC",
        "outputId": "ceea3159-e360-4096-dfc1-312884086597"
      },
      "execution_count": 13,
      "outputs": [
        {
          "output_type": "stream",
          "name": "stdout",
          "text": [
            "True\n",
            "True\n",
            "False\n"
          ]
        }
      ]
    },
    {
      "cell_type": "markdown",
      "source": [
        "Conditional operators:\n",
        " Write a program to find that your age is eligible for voting or no"
      ],
      "metadata": {
        "id": "iCweU_NstUdQ"
      }
    },
    {
      "cell_type": "code",
      "source": [
        "age = 19\n",
        "if age >= 18:\n",
        "  print('You are old enough to vote!')"
      ],
      "metadata": {
        "id": "VaHNuKjGta_W"
      },
      "execution_count": null,
      "outputs": []
    },
    {
      "cell_type": "markdown",
      "source": [
        " write a program to print a number only if its positive\n",
        " "
      ],
      "metadata": {
        "id": "34SC4IxHuSD3"
      }
    },
    {
      "cell_type": "code",
      "source": [
        "a=-5\n",
        "if a>0:\n",
        "  print(a)"
      ],
      "metadata": {
        "id": "67jl73WOuUCD"
      },
      "execution_count": 14,
      "outputs": []
    },
    {
      "cell_type": "markdown",
      "source": [
        " Take two numbers from the user, compare and print the smaller number"
      ],
      "metadata": {
        "id": "TbpCw2bAuc_Z"
      }
    },
    {
      "cell_type": "code",
      "source": [
        "print(\"Enter 1st number\")\n",
        "a=int(input())\n",
        "print(\"Enter 2nd number\")\n",
        "b=int(input())\n",
        "\n",
        "if a<b:\n",
        "  print(a,'is smaller than',b)\n",
        "else:\n",
        "  print(b,'is smaller than',a)\n"
      ],
      "metadata": {
        "colab": {
          "base_uri": "https://localhost:8080/"
        },
        "id": "DpTDZWXMu0Qp",
        "outputId": "4a6e4373-7cdc-4d0a-9ac4-8e87a63c8465"
      },
      "execution_count": 16,
      "outputs": [
        {
          "output_type": "stream",
          "name": "stdout",
          "text": [
            "Enter 1st number\n",
            "7\n",
            "Enter 2nd number\n",
            "1\n",
            "1 is smaller than 7\n"
          ]
        }
      ]
    },
    {
      "cell_type": "markdown",
      "source": [
        "program 6:"
      ],
      "metadata": {
        "id": "E5KBYTHQvLF0"
      }
    },
    {
      "cell_type": "code",
      "source": [
        "#list of flowers\n",
        "flowers=['rose','daisy','tulip']\n",
        "#print the list of the flowers \n",
        "print(flowers)\n",
        "\n",
        "#Access basics of the list\n",
        "print(flowers[0])\n",
        "print(flowers[1])\n",
        "print(flowers[2])\n",
        "\n",
        "#replace the s element of the list\n",
        "flowers[0]='Camellia'\n",
        "print(flowers)\n",
        "\n",
        "#Add an element at the end of the list use append() function\n",
        "flowers.append('liily')\n",
        "print(flowers)\n",
        "\n",
        "#insert elemnts in  the list use insert() function\n",
        "flowers.insert(0,'Sunflower')\n",
        "flowers.insert(3,'Hibiscus')\n",
        "print(flowers)\n",
        "\n",
        "#Remove element in the list using value\n",
        "print(flowers)\n",
        "flowers.remove('Sunflower')\n",
        "print(flowers)\n",
        "\n",
        "#Remove list element in the list using pop() function\n",
        "popped=flowers.pop()\n",
        "print(flowers)\n",
        "\n",
        "#print the popped element\n",
        "print(popped)\n",
        "\n",
        "#sort list in alphabetical order\n",
        "print(flowers)\n",
        "flowers.sort()\n",
        "print(flowers)"
      ],
      "metadata": {
        "colab": {
          "base_uri": "https://localhost:8080/"
        },
        "id": "14K31qAvvRQM",
        "outputId": "d39772ef-56b6-456a-9371-194c166dee62"
      },
      "execution_count": 17,
      "outputs": [
        {
          "output_type": "stream",
          "name": "stdout",
          "text": [
            "['rose', 'daisy', 'tulip']\n",
            "rose\n",
            "daisy\n",
            "tulip\n",
            "['Camellia', 'daisy', 'tulip']\n",
            "['Camellia', 'daisy', 'tulip', 'liily']\n",
            "['Sunflower', 'Camellia', 'daisy', 'Hibiscus', 'tulip', 'liily']\n",
            "['Sunflower', 'Camellia', 'daisy', 'Hibiscus', 'tulip', 'liily']\n",
            "['Camellia', 'daisy', 'Hibiscus', 'tulip', 'liily']\n",
            "['Camellia', 'daisy', 'Hibiscus', 'tulip']\n",
            "liily\n",
            "['Camellia', 'daisy', 'Hibiscus', 'tulip']\n",
            "['Camellia', 'Hibiscus', 'daisy', 'tulip']\n"
          ]
        }
      ]
    },
    {
      "cell_type": "markdown",
      "source": [
        "Dictionary: write a program to create a dictionary comprimising of name, id, course."
      ],
      "metadata": {
        "id": "eIkJ6RLfvbET"
      }
    },
    {
      "cell_type": "code",
      "source": [
        "student={'Name':'Katrina Kaif','id':12,'course':'creative computing'}\n",
        "print(student)\n",
        "print(student['Name'])\n",
        "print(student['id'])\n",
        "print(student['course'])"
      ],
      "metadata": {
        "colab": {
          "base_uri": "https://localhost:8080/"
        },
        "id": "KOsCWspive_R",
        "outputId": "7697c98c-c253-45aa-e6fd-8119add20bf7"
      },
      "execution_count": 18,
      "outputs": [
        {
          "output_type": "stream",
          "name": "stdout",
          "text": [
            "{'Name': 'Katrina Kaif', 'id': 12, 'course': 'creative computing'}\n",
            "Katrina Kaif\n",
            "12\n",
            "creative computing\n"
          ]
        }
      ]
    },
    {
      "cell_type": "markdown",
      "source": [
        "While loop:\n",
        "\n",
        "write a program to print numbers from 1 to 10 using while loop."
      ],
      "metadata": {
        "id": "IcfmTorLvvfi"
      }
    },
    {
      "cell_type": "code",
      "source": [
        "#ysung while loop, print 1 to 10\n",
        "count=1\n",
        "while count<=10:\n",
        "  print(count)\n",
        "  count=count+1"
      ],
      "metadata": {
        "colab": {
          "base_uri": "https://localhost:8080/"
        },
        "id": "HC5_7sZBvwtc",
        "outputId": "56d158f9-052c-4a18-e135-43dac95313f5"
      },
      "execution_count": 19,
      "outputs": [
        {
          "output_type": "stream",
          "name": "stdout",
          "text": [
            "1\n",
            "2\n",
            "3\n",
            "4\n",
            "5\n",
            "6\n",
            "7\n",
            "8\n",
            "9\n",
            "10\n"
          ]
        }
      ]
    },
    {
      "cell_type": "markdown",
      "source": [
        "another way to add +1 count"
      ],
      "metadata": {
        "id": "4SQZCNSYv5CU"
      }
    },
    {
      "cell_type": "code",
      "source": [
        "count=1\n",
        "while count<=10:\n",
        "  print(count)\n",
        "  count+=1"
      ],
      "metadata": {
        "colab": {
          "base_uri": "https://localhost:8080/"
        },
        "id": "dJo-0-7jv6X6",
        "outputId": "d8c63f67-d051-4d16-de83-55e97c88bf2e"
      },
      "execution_count": 20,
      "outputs": [
        {
          "output_type": "stream",
          "name": "stdout",
          "text": [
            "1\n",
            "2\n",
            "3\n",
            "4\n",
            "5\n",
            "6\n",
            "7\n",
            "8\n",
            "9\n",
            "10\n"
          ]
        }
      ]
    },
    {
      "cell_type": "markdown",
      "source": [
        "While loop-break program 2: write a program that asks the user about places they love to visit. We can stop the while loop in the program by calling break as soon as the user enters the 'quit' value."
      ],
      "metadata": {
        "id": "IJ5PXlx0v-_R"
      }
    },
    {
      "cell_type": "code",
      "source": [
        "city_name='\\nEnter the name of the counrty you would like the visit:'\n",
        "city_name+='\\nEnter quit once you finish'\n",
        "while True:\n",
        "  city=input(city_name)\n",
        "  if city=='quit':\n",
        "    break\n",
        "  else:\n",
        "    print('I would love to go to', city.title(),'!')"
      ],
      "metadata": {
        "colab": {
          "base_uri": "https://localhost:8080/"
        },
        "id": "GIRdp_ZZ180i",
        "outputId": "eef1227d-76b3-4348-8996-56db12a90781"
      },
      "execution_count": 21,
      "outputs": [
        {
          "name": "stdout",
          "output_type": "stream",
          "text": [
            "\n",
            "Enter the name of the counrty you would like the visit:\n",
            "Enter quit once you finishparis\n",
            "I would love to go to Paris !\n",
            "\n",
            "Enter the name of the counrty you would like the visit:\n",
            "Enter quit once you finishtokyo\n",
            "I would love to go to Tokyo !\n",
            "\n",
            "Enter the name of the counrty you would like the visit:\n",
            "Enter quit once you finishunited kingdom\n",
            "I would love to go to United Kingdom !\n",
            "\n",
            "Enter the name of the counrty you would like the visit:\n",
            "Enter quit once you finishquit\n"
          ]
        }
      ]
    },
    {
      "cell_type": "markdown",
      "source": [
        "For loop: Program 4:create a list of flowers with atleast 4 flowers. write a program to print the all elements in the list datatype using for loop."
      ],
      "metadata": {
        "id": "7C8Q6OpM2ILb"
      }
    },
    {
      "cell_type": "code",
      "source": [
        "flowers=['daisy','tulip','lilly']\n",
        "for flower in flowers:\n",
        "  print(flower)"
      ],
      "metadata": {
        "colab": {
          "base_uri": "https://localhost:8080/"
        },
        "id": "I49rm6Ep2JMM",
        "outputId": "7b910075-92ae-4654-f715-46b3ed44be92"
      },
      "execution_count": 22,
      "outputs": [
        {
          "output_type": "stream",
          "name": "stdout",
          "text": [
            "daisy\n",
            "tulip\n",
            "lilly\n"
          ]
        }
      ]
    },
    {
      "cell_type": "markdown",
      "source": [
        "Program 5: create a dictionary data-type of a student with name,id and coursee. write a program to use all items,keys and values in the dictionary variable using a loop."
      ],
      "metadata": {
        "id": "GRofmyaB2OHz"
      }
    },
    {
      "cell_type": "code",
      "source": [
        "student = {'name': 'Anglina Jolie', 'id':10, 'course':'BSC CC'}\n",
        "print('Display key-value pairs')\n",
        "for key, value in student.items(): #reads all times\n",
        " print(f\"Key: {key}\")\n",
        " print(f\"Value: {value}\")\n",
        "\n",
        " \n",
        "student['gender']= 'Male'  #adding gender=Male\n",
        "print(student)"
      ],
      "metadata": {
        "colab": {
          "base_uri": "https://localhost:8080/"
        },
        "id": "UOVerBTQ2PLo",
        "outputId": "f19882af-bbf3-4347-a370-b6ddd5bbcef9"
      },
      "execution_count": 24,
      "outputs": [
        {
          "output_type": "stream",
          "name": "stdout",
          "text": [
            "Display key-value pairs\n",
            "Key: name\n",
            "Value: Anglina Jolie\n",
            "Key: id\n",
            "Value: 10\n",
            "Key: course\n",
            "Value: BSC CC\n",
            "{'name': 'Anglina Jolie', 'id': 10, 'course': 'BSC CC', 'gender': 'Male'}\n"
          ]
        }
      ]
    },
    {
      "cell_type": "markdown",
      "source": [
        "Program:7 make a list of the students with name, id and course and gender. Use for loop to print your list."
      ],
      "metadata": {
        "id": "MC9Izs5L2SCe"
      }
    },
    {
      "cell_type": "code",
      "source": [
        "sandwich_orders = ['dynamite chicken','kababb','cheese','fillet']\n",
        "finished_sandwiches = []\n",
        "\n",
        "while sandwich_orders:\n",
        "  current_sandwich = sandwich_orders.pop()\n",
        "  print(\"I made your \" + current_sandwich + \" sandwich.\")\n",
        "  finished_sandwiches.append(current_sandwich)\n",
        "\n",
        "print(\"\\n\")\n",
        "print('Sandwich Oders:')\n",
        "for sandwich in finished_sandwiches:\n",
        "  print(sandwich,'Sandwich')"
      ],
      "metadata": {
        "id": "vG27lBbB2ZUI"
      },
      "execution_count": null,
      "outputs": []
    },
    {
      "cell_type": "code",
      "source": [
        "#function definition\n",
        "def greet_user():\n",
        "    print(\"Hello!\") #Display a simple greeting. Focus on intented lines\n",
        "greet_user() #function call\n"
      ],
      "metadata": {
        "colab": {
          "base_uri": "https://localhost:8080/"
        },
        "id": "DZEBwzqt2iP3",
        "outputId": "6add24d5-df93-4458-f7c9-199f1e5847e3"
      },
      "execution_count": 25,
      "outputs": [
        {
          "output_type": "stream",
          "name": "stdout",
          "text": [
            "Hello!\n"
          ]
        }
      ]
    },
    {
      "cell_type": "markdown",
      "source": [
        "Program 1:"
      ],
      "metadata": {
        "id": "JnqTZf1S2wdL"
      }
    },
    {
      "cell_type": "code",
      "source": [
        "#function definition with two parameters\n",
        "def make_shirt(size,messege):\n",
        "#display inforamtion about a student \n",
        "  print(f\"\\nThe size of the shirt is {size} and messege to be printed is {messege.upper()}\")\n",
        "make_shirt(35, 'the colors are bright')    #function call wth two arguments"
      ],
      "metadata": {
        "colab": {
          "base_uri": "https://localhost:8080/"
        },
        "id": "QOhv4Jar2z40",
        "outputId": "8aa1f55e-89c6-4c02-9e6b-4e037cd1d949"
      },
      "execution_count": 26,
      "outputs": [
        {
          "output_type": "stream",
          "name": "stdout",
          "text": [
            "\n",
            "The size of the shirt is 35 and messege to be printed is THE COLORS ARE BRIGHT\n"
          ]
        }
      ]
    }
  ]
}