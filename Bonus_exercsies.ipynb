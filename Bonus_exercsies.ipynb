{
  "nbformat": 4,
  "nbformat_minor": 0,
  "metadata": {
    "colab": {
      "provenance": [],
      "collapsed_sections": [],
      "authorship_tag": "ABX9TyMpmpEl8/v+CAP/nbPXrR7k",
      "include_colab_link": true
    },
    "kernelspec": {
      "name": "python3",
      "display_name": "Python 3"
    },
    "language_info": {
      "name": "python"
    }
  },
  "cells": [
    {
      "cell_type": "markdown",
      "metadata": {
        "id": "view-in-github",
        "colab_type": "text"
      },
      "source": [
        "<a href=\"https://colab.research.google.com/github/asmagubara/asma-project-colab-1-/blob/main/Bonus_exercsies.ipynb\" target=\"_parent\"><img src=\"https://colab.research.google.com/assets/colab-badge.svg\" alt=\"Open In Colab\"/></a>"
      ]
    },
    {
      "cell_type": "code",
      "source": [
        "2 + 2"
      ],
      "metadata": {
        "colab": {
          "base_uri": "https://localhost:8080/"
        },
        "id": "gLf53gmJwRve",
        "outputId": "b0c9c029-219f-4480-bb81-5b043f5967ff"
      },
      "execution_count": 1,
      "outputs": [
        {
          "output_type": "execute_result",
          "data": {
            "text/plain": [
              "4"
            ]
          },
          "metadata": {},
          "execution_count": 1
        }
      ]
    },
    {
      "cell_type": "markdown",
      "source": [
        "strings:"
      ],
      "metadata": {
        "id": "k2pddVX-yQr1"
      }
    },
    {
      "cell_type": "code",
      "source": [
        "#wokring with strings\n",
        "sentence1='Today is 6th October, 2022, Thursday.'\n",
        "print(sentence1)\n",
        "print(sentence1[0])\n",
        "print(sentence1[0:5])\n",
        "print(sentence1[4:])\n",
        "print(sentence1*2)\n"
      ],
      "metadata": {
        "colab": {
          "base_uri": "https://localhost:8080/"
        },
        "id": "fkr9lzspyX6l",
        "outputId": "19ca4a9c-b835-45e9-c12f-063b443fc66f"
      },
      "execution_count": 6,
      "outputs": [
        {
          "output_type": "stream",
          "name": "stdout",
          "text": [
            "Today is 6th October, 2022, Thursday.\n",
            "T\n",
            "Today\n",
            "y is 6th October, 2022, Thursday.\n",
            "Today is 6th October, 2022, Thursday.Today is 6th October, 2022, Thursday.\n"
          ]
        }
      ]
    },
    {
      "cell_type": "code",
      "source": [
        "#use of type() function in python –The type () function is used to get the type of an object\n",
        "x=5\n",
        "y=3.14\n",
        "z=0.2+3j\n",
        "word='hello'\n",
        "sentence='Today is Thursday'\n",
        "\n",
        "print(type(x))\n",
        "print(type(y))\n",
        "print(type(z))\n",
        "print(type(word))\n",
        "print(type(sentence))"
      ],
      "metadata": {
        "colab": {
          "base_uri": "https://localhost:8080/"
        },
        "id": "7aASG8yG1DD0",
        "outputId": "52ab4079-234a-4cd6-e4a0-c3b11ff5a436"
      },
      "execution_count": 8,
      "outputs": [
        {
          "output_type": "stream",
          "name": "stdout",
          "text": [
            "<class 'int'>\n",
            "<class 'float'>\n",
            "<class 'complex'>\n",
            "<class 'str'>\n",
            "<class 'str'>\n"
          ]
        }
      ]
    },
    {
      "cell_type": "markdown",
      "source": [
        "Input() function:"
      ],
      "metadata": {
        "id": "QsTFmvM71tUM"
      }
    },
    {
      "cell_type": "code",
      "source": [
        "#use input() function to work with their user defined variables\n",
        "print('Please Enter the side of a square:')\n",
        "side=int(input())\n",
        "print('Sides of the square=',side)\n",
        "print('The area of a square with side '+str(side) + ' units= '+ str(side**2)+ ' sq units')"
      ],
      "metadata": {
        "colab": {
          "base_uri": "https://localhost:8080/"
        },
        "id": "geAgEijP1yrM",
        "outputId": "c6377e02-59ed-4ad6-e3dc-1c392c6702f0"
      },
      "execution_count": 10,
      "outputs": [
        {
          "output_type": "stream",
          "name": "stdout",
          "text": [
            "Please Enter the side of a square:\n",
            "10\n",
            "Sides of the square= 10\n",
            "The area of a square with side 10 units= 100 sq units\n"
          ]
        }
      ]
    },
    {
      "cell_type": "markdown",
      "source": [
        "To find the raduis of a cicle"
      ],
      "metadata": {
        "id": "vYCcAsbn4ElD"
      }
    },
    {
      "cell_type": "code",
      "source": [
        "PI=3.142\n",
        "print('Enter the radius of circle:')\n",
        "r=int(input())\n",
        "\n",
        "print('The area of the circle with radius '+str(r)+' units=: '+str(PI*r**2)+' sq units')\n"
      ],
      "metadata": {
        "colab": {
          "base_uri": "https://localhost:8080/"
        },
        "id": "weaVeWgp3nh9",
        "outputId": "c62c512e-2718-483b-94d1-d0991c0621fe"
      },
      "execution_count": 11,
      "outputs": [
        {
          "output_type": "stream",
          "name": "stdout",
          "text": [
            "Enter the radius of circle:\n",
            "6\n",
            "The area of the circle with radius 6 units=: 113.112 sq units\n"
          ]
        }
      ]
    },
    {
      "cell_type": "markdown",
      "source": [
        "upper and lowercase"
      ],
      "metadata": {
        "id": "LgO_ede94JSb"
      }
    },
    {
      "cell_type": "code",
      "source": [],
      "metadata": {
        "id": "9YN_Aw1R4Kwc"
      },
      "execution_count": null,
      "outputs": []
    }
  ]
}