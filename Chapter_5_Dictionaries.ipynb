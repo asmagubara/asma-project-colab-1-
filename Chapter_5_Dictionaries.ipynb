{
  "nbformat": 4,
  "nbformat_minor": 0,
  "metadata": {
    "colab": {
      "provenance": [],
      "collapsed_sections": [],
      "authorship_tag": "ABX9TyOQjMd9JGbrLCslSXIlGsjv",
      "include_colab_link": true
    },
    "kernelspec": {
      "name": "python3",
      "display_name": "Python 3"
    },
    "language_info": {
      "name": "python"
    }
  },
  "cells": [
    {
      "cell_type": "markdown",
      "metadata": {
        "id": "view-in-github",
        "colab_type": "text"
      },
      "source": [
        "<a href=\"https://colab.research.google.com/github/asmagubara/asma-project-colab-1-/blob/main/Chapter_5_Dictionaries.ipynb\" target=\"_parent\"><img src=\"https://colab.research.google.com/assets/colab-badge.svg\" alt=\"Open In Colab\"/></a>"
      ]
    },
    {
      "cell_type": "markdown",
      "source": [
        "Exercise 1: Person\n",
        "\n",
        "Use a dictionary to store information about a person you know.Store their first name, last name, age, and the city in which they live. You\n",
        "\n",
        "should have keys such as first_name, last_name, age, and city. Print each piece of information stored in your dictionary."
      ],
      "metadata": {
        "id": "IMomC_JgEOap"
      }
    },
    {
      "cell_type": "code",
      "execution_count": null,
      "metadata": {
        "id": "e5Q0dyg6UwHQ",
        "colab": {
          "base_uri": "https://localhost:8080/"
        },
        "outputId": "07a625af-50d0-4f7d-8beb-c7f534374e48"
      },
      "outputs": [
        {
          "output_type": "stream",
          "name": "stdout",
          "text": [
            "Amna\n",
            "Al shamsi\n",
            "19\n",
            "Dubai\n"
          ]
        }
      ],
      "source": [
        "#write your friends name and input their information\n",
        "person = {'first_name': 'Amna','last_name': 'Al shamsi','age': 19,'city': 'Dubai'}\n",
        "print(person['first_name'])\n",
        "print(person['last_name'])\n",
        "print(person['age'])\n",
        "print(person['city'])"
      ]
    },
    {
      "cell_type": "markdown",
      "source": [
        "Exercise 2: Glossary \n",
        "\n",
        "A Python dictionary can be used to model an actual dictionary. However, to avoid confusion, let’s call it a glossary.\n",
        "\n",
        "Think of five programming words you’ve learned about in the previous chapters. Use these words as the keys in your glossary, and store\n",
        "their meanings as values.\n",
        "\n",
        "Print each word and its meaning as neatly formatted output. You might print the word followed by a colon and then its meaning, or print\n",
        "the word on one line and then print its meaning indented on a second line. Use the newline character (\\n) to insert a blank line between\n",
        "\n",
        "each word-meaning pair in your output.    \n"
      ],
      "metadata": {
        "id": "GtopQ5bcIG88"
      }
    },
    {
      "cell_type": "code",
      "source": [
        "#write down some words and their meanigs you have learned in python\n",
        "glossary = {'comment': 'An observation or remark expressing an opinion.',\n",
        "'loop': 'Repeating somehting over and over until a particular condition is satisfied.',\n",
        "'string': 'A collection of alphabets, words or other characters.',\n",
        "'dictionary': 'A collection of key-value pairs.',\n",
        "'list': 'Is used to store multiple items in a single variable.'\n",
        "}\n",
        "word = 'comment'\n",
        "print(f\"\\n{word.title()}: {glossary[word]}\")\n",
        "\n",
        "word = 'loop'\n",
        "print(f\"\\n{word.title()}: {glossary[word]}\")\n",
        "\n",
        "word = 'string'\n",
        "print(f\"\\n{word.title()}: {glossary[word]}\")\n",
        "\n",
        "word = 'dictionary'\n",
        "print(f\"\\n{word.title()}: {glossary[word]}\")\n",
        "\n",
        "word = 'list'\n",
        "print(f\"\\n{word.title()}: {glossary[word]}\")\n"
      ],
      "metadata": {
        "colab": {
          "base_uri": "https://localhost:8080/"
        },
        "id": "PytXycEXImz5",
        "outputId": "a74a882b-913c-4814-c229-65d051971aca"
      },
      "execution_count": null,
      "outputs": [
        {
          "output_type": "stream",
          "name": "stdout",
          "text": [
            "\n",
            "Comment: An observation or remark expressing an opinion.\n",
            "\n",
            "Loop: Repeating somehting over and over until a particular condition is satisfied.\n",
            "\n",
            "String: A collection of alphabets, words or other characters.\n",
            "\n",
            "Dictionary: A collection of key-value pairs.\n",
            "\n",
            "List: Is used to store multiple items in a single variable.\n"
          ]
        }
      ]
    },
    {
      "cell_type": "markdown",
      "source": [
        "Exercise 3: Glossary 2\n",
        "\n",
        "Now that you know how to loop through a dictionary, clean up the code from Exercise 6-3 (page 99) by replacing your series of print()\n",
        "\n",
        "calls with a loop that runs through the dictionary’s keys and values. When you’re sure that your loop works, add five more Python terms\n",
        "\n",
        "to your glossary.When you run your program again, these new words and meanings should automatically be included in the output."
      ],
      "metadata": {
        "id": "Z0HwdEM8Mb5C"
      }
    },
    {
      "cell_type": "code",
      "source": [
        "glossary = {'comment': 'An observation or remark expressing an opinion.',\n",
        "'loop': 'Repeating somehting over and over until a particular condition is satisfied.',\n",
        "'string': 'A collection of alphabets, words or other characters.',\n",
        "'dictionary': 'A collection of key-value pairs.',\n",
        "'list': 'Is used to store multiple items in a single variable.',\n",
        "'key': 'Is used to retrieve all of the keys from the dictionary.',\n",
        "'float':'Represent real numbers and is written with a decimal point dividing the integer and fractional parts.',\n",
        "'value': 'Is one of the basic things a program works with, like a letter or a number.',\n",
        "'append': 'A pre-defined method used to add a single item to certain collection types.',\n",
        "'title': 'A method returns a string where the first character in every word is upper case.',\n",
        "}\n",
        "\n",
        "for word, definition in glossary.items():\n",
        "    print(f\"\\n{word.title()}: {definition}\")"
      ],
      "metadata": {
        "id": "_iKX5v0kMv5Q",
        "colab": {
          "base_uri": "https://localhost:8080/"
        },
        "outputId": "b27ca9b0-428a-4d36-97ec-2ef61aff72d5"
      },
      "execution_count": null,
      "outputs": [
        {
          "output_type": "stream",
          "name": "stdout",
          "text": [
            "\n",
            "Comment: An observation or remark expressing an opinion.\n",
            "\n",
            "Loop: Repeating somehting over and over until a particular condition is satisfied.\n",
            "\n",
            "String: A collection of alphabets, words or other characters.\n",
            "\n",
            "Dictionary: A collection of key-value pairs.\n",
            "\n",
            "List: Is used to store multiple items in a single variable.\n",
            "\n",
            "Key: Is used to retrieve all of the keys from the dictionary.\n",
            "\n",
            "Float: Represent real numbers and is written with a decimal point dividing the integer and fractional parts.\n",
            "\n",
            "Value: Is one of the basic things a program works with, like a letter or a number.\n",
            "\n",
            "Append: A pre-defined method used to add a single item to certain collection types.\n",
            "\n",
            "Title: A method returns a string where the first character in every word is upper case.\n"
          ]
        }
      ]
    },
    {
      "cell_type": "markdown",
      "source": [
        "Exercise 4: Rivers\n",
        "\n",
        "Make a dictionary containing three major rivers and the country each river runs through. One key-value pair might be 'nile': 'egypt'.\n",
        "\n",
        "Use a loop to print a sentence about each river, such as The Nile runs through Egypt.\n",
        "\n",
        "Use a loop to print the name of each river included in the dictionary.\n",
        "\n",
        "Use a loop to print the name of each country included in the dictionary."
      ],
      "metadata": {
        "id": "Al9bFXQHT3wO"
      }
    },
    {
      "cell_type": "code",
      "source": [
        "#make a list of rivers and their countries\n",
        "rivers = {'yellow': 'china',\n",
        "          'cango': 'africa',\n",
        "          'volga': 'russia',\n",
        "          'sepik': 'new guinea',\n",
        "          'godavari': 'india',\n",
        "          }\n",
        "for river, country in rivers.items():\n",
        "  print(f\"The {river.title()} flows through {country.title()}.\")\n",
        "\n",
        "  print(\"\\nThe following rivers are included in this data set:\")\n",
        "for river in rivers.keys():\n",
        "    print(f\"- {river.title()}\")\n",
        "\n",
        "    print(\"\\nThe following countries are included in this data set:\")\n",
        "for country in rivers.values():\n",
        "    print(f\"- {country.title()}\")"
      ],
      "metadata": {
        "colab": {
          "base_uri": "https://localhost:8080/"
        },
        "id": "RUtUIAPFT9H3",
        "outputId": "f83c3dae-8f2e-4599-9566-cec78c37d399"
      },
      "execution_count": null,
      "outputs": [
        {
          "output_type": "stream",
          "name": "stdout",
          "text": [
            "The Yellow flows through China.\n",
            "\n",
            "The following rivers are included in this data set:\n",
            "The Cango flows through Africa.\n",
            "\n",
            "The following rivers are included in this data set:\n",
            "The Volga flows through Russia.\n",
            "\n",
            "The following rivers are included in this data set:\n",
            "The Sepik flows through New Guinea.\n",
            "\n",
            "The following rivers are included in this data set:\n",
            "The Godavari flows through India.\n",
            "\n",
            "The following rivers are included in this data set:\n",
            "- Yellow\n",
            "\n",
            "The following countries are included in this data set:\n",
            "- Cango\n",
            "\n",
            "The following countries are included in this data set:\n",
            "- Volga\n",
            "\n",
            "The following countries are included in this data set:\n",
            "- Sepik\n",
            "\n",
            "The following countries are included in this data set:\n",
            "- Godavari\n",
            "\n",
            "The following countries are included in this data set:\n",
            "- China\n",
            "- Africa\n",
            "- Russia\n",
            "- New Guinea\n",
            "- India\n"
          ]
        }
      ]
    },
    {
      "cell_type": "markdown",
      "source": [
        "Exercise 5: Pets\n",
        "\n",
        "Make several dictionaries, where each dictionary represents a different pet. In each dictionary, include the kind of animal and the owner’s name. Store these dictionaries in a list called pets. Next, loop through your list and asyou do, print everything you know about each pet.\n"
      ],
      "metadata": {
        "id": "zMRuGeVuZrbZ"
      }
    },
    {
      "cell_type": "code",
      "source": [
        "#Make an empty list to store the pets in.\n",
        "pets = []\n",
        "\n",
        "# Make individual pets, and store each pet in the list.\n",
        "pet = {\n",
        "    'animal type': 'birds',\n",
        "    'name': 'jessica',\n",
        "    'owner': 'jeff',\n",
        "    'weight': 43,\n",
        "    'eats': 'seeds',\n",
        "}\n",
        "pets.append(pet)\n",
        "\n",
        "pet = {\n",
        "    'animal type': 'dogs',\n",
        "    'name': 'clarence',\n",
        "    'owner': 'tiffany',\n",
        "    'weight': 10,\n",
        "    'eats': 'bones',\n",
        "}\n",
        "pets.append(pet)\n",
        "\n",
        "pet = {\n",
        "    'animal type': 'cats',\n",
        "    'name': 'peso',\n",
        "    'owner': 'joelle',\n",
        "    'weight': 3,\n",
        "    'eats': 'tuna',\n",
        "}\n",
        "pets.append(pet)\n",
        "\n",
        "# display each information about each pet.\n",
        "for pet in pets:\n",
        "    print(f\"\\nHere's what I know about {pet['name'].title()}:\")\n",
        "    for key, value in pet.items():\n",
        "        print(f\"\\t{key}: {value}\")"
      ],
      "metadata": {
        "colab": {
          "base_uri": "https://localhost:8080/"
        },
        "id": "ejWJqwyHZ0ae",
        "outputId": "c1f2b564-106d-4e49-a6b2-4fe39d026a24"
      },
      "execution_count": null,
      "outputs": [
        {
          "output_type": "stream",
          "name": "stdout",
          "text": [
            "\n",
            "Here's what I know about Jessica:\n",
            "\tanimal type: birds\n",
            "\tname: jessica\n",
            "\towner: jeff\n",
            "\tweight: 43\n",
            "\teats: seeds\n",
            "\n",
            "Here's what I know about Clarence:\n",
            "\tanimal type: dogs\n",
            "\tname: clarence\n",
            "\towner: tiffany\n",
            "\tweight: 10\n",
            "\teats: bones\n",
            "\n",
            "Here's what I know about Peso:\n",
            "\tanimal type: cats\n",
            "\tname: peso\n",
            "\towner: joelle\n",
            "\tweight: 3\n",
            "\teats: tuna\n"
          ]
        }
      ]
    }
  ]
}