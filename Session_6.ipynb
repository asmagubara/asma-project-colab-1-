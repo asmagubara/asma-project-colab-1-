{
  "nbformat": 4,
  "nbformat_minor": 0,
  "metadata": {
    "colab": {
      "provenance": [],
      "authorship_tag": "ABX9TyO6s7Wdj8x9ae4nMsnE6fj8",
      "include_colab_link": true
    },
    "kernelspec": {
      "name": "python3",
      "display_name": "Python 3"
    },
    "language_info": {
      "name": "python"
    }
  },
  "cells": [
    {
      "cell_type": "markdown",
      "metadata": {
        "id": "view-in-github",
        "colab_type": "text"
      },
      "source": [
        "<a href=\"https://colab.research.google.com/github/asmagubara/asma-project-colab-1-/blob/main/Session_6.ipynb\" target=\"_parent\"><img src=\"https://colab.research.google.com/assets/colab-badge.svg\" alt=\"Open In Colab\"/></a>"
      ]
    },
    {
      "cell_type": "markdown",
      "source": [
        "Arithmetic Operations:\n",
        "addition\n",
        "subtraction\n",
        "multipliction\n",
        "division\n",
        "modulas(percentage)\n",
        "power"
      ],
      "metadata": {
        "id": "kvtkMl-9ztX0"
      }
    },
    {
      "cell_type": "code",
      "source": [
        "#get 2 numbers from the user\n",
        "print ('Enter 2 numbers')\n",
        "a=int(input())\n",
        "b=int(input())"
      ],
      "metadata": {
        "colab": {
          "base_uri": "https://localhost:8080/"
        },
        "id": "ujs2Ikbi0kAH",
        "outputId": "53ab1b48-3ecb-464e-fb62-ed4b228ab670"
      },
      "execution_count": null,
      "outputs": [
        {
          "name": "stdout",
          "output_type": "stream",
          "text": [
            "Enter 2 numbers\n",
            "45\n",
            "5\n"
          ]
        }
      ]
    },
    {
      "cell_type": "code",
      "execution_count": null,
      "metadata": {
        "colab": {
          "base_uri": "https://localhost:8080/"
        },
        "id": "Qb4I8yL0zrbn",
        "outputId": "6c773983-7ad2-4271-f0b8-acd1359cff35"
      },
      "outputs": [
        {
          "output_type": "stream",
          "name": "stdout",
          "text": [
            "The addition of 45 and 5 is 50\n"
          ]
        }
      ],
      "source": [
        "#calculate and print the results\n",
        "print('The addition of '+str(a)+' and '+str(b)+' is '+str(a+b))\n",
        "                                                      "
      ]
    },
    {
      "cell_type": "code",
      "source": [
        "print('The substraction of '+str(a)+' and '+str(b)+' is '+str(a-b))"
      ],
      "metadata": {
        "colab": {
          "base_uri": "https://localhost:8080/"
        },
        "id": "NQIZVtlQ2v2f",
        "outputId": "5199c2b5-5a9a-4b0c-8a58-3dd049ff576e"
      },
      "execution_count": null,
      "outputs": [
        {
          "output_type": "stream",
          "name": "stdout",
          "text": [
            "The substraction of 45 and 5 is 40\n"
          ]
        }
      ]
    },
    {
      "cell_type": "code",
      "source": [
        "print('The multiplication of '+str(a)+' and '+str(b)+' is '+str(a*b))"
      ],
      "metadata": {
        "colab": {
          "base_uri": "https://localhost:8080/"
        },
        "id": "glSQwRkn3QKJ",
        "outputId": "35a7cf44-6c1d-41c8-ff06-044d7efad5a7"
      },
      "execution_count": null,
      "outputs": [
        {
          "output_type": "stream",
          "name": "stdout",
          "text": [
            "The multiplication of 45 and 5 is 225\n"
          ]
        }
      ]
    },
    {
      "cell_type": "code",
      "source": [
        "print('The division of '+str(a)+' and '+str(b)+' is '+str(a/b))"
      ],
      "metadata": {
        "colab": {
          "base_uri": "https://localhost:8080/"
        },
        "id": "ebX5xa4L3nGX",
        "outputId": "5618803d-1d1d-4b38-e2ef-b4d9a96b21c8"
      },
      "execution_count": null,
      "outputs": [
        {
          "output_type": "stream",
          "name": "stdout",
          "text": [
            "The division of 45 and 5 is 9.0\n"
          ]
        }
      ]
    },
    {
      "cell_type": "code",
      "source": [
        "print('The modulus of '+str(a)+' and '+str(b)+' is '+str(a%b))"
      ],
      "metadata": {
        "colab": {
          "base_uri": "https://localhost:8080/"
        },
        "id": "qmjEOHNi37xB",
        "outputId": "22d8e3f7-908b-43b3-ffc2-6031fad8aa43"
      },
      "execution_count": null,
      "outputs": [
        {
          "output_type": "stream",
          "name": "stdout",
          "text": [
            "The modulus of 45 and 5 is 0\n"
          ]
        }
      ]
    },
    {
      "cell_type": "code",
      "source": [
        "print('The power of '+str(a)+' and '+str(b)+' is '+str(a**b))"
      ],
      "metadata": {
        "colab": {
          "base_uri": "https://localhost:8080/"
        },
        "id": "YYSbkwC74nIu",
        "outputId": "bd0b4f68-969b-4d7c-eb1d-1b7026c6d6b5"
      },
      "execution_count": null,
      "outputs": [
        {
          "output_type": "stream",
          "name": "stdout",
          "text": [
            "The power of 45 and 5 is 184528125\n"
          ]
        }
      ]
    },
    {
      "cell_type": "markdown",
      "source": [
        "Logical operation: and, or, not"
      ],
      "metadata": {
        "id": "gvxB6Lwi9uPn"
      }
    },
    {
      "cell_type": "code",
      "source": [
        "x = True\n",
        "y = False\n",
        "\n",
        "print('x and y is',x and y)\n",
        "\n"
      ],
      "metadata": {
        "id": "WhFZkum299fT"
      },
      "execution_count": null,
      "outputs": []
    },
    {
      "cell_type": "markdown",
      "source": [
        "Identity operators: is and is not"
      ],
      "metadata": {
        "id": "fm4U3aoK_aWW"
      }
    },
    {
      "cell_type": "code",
      "source": [
        "x1 = 5\n",
        "y2 = 5\n",
        "x2 = 'Hello'\n",
        "y2 = 'Hello'\n",
        "x3 = [1,2,3]\n",
        "y3 = [1,2,3]\n",
        "\n",
        "# Output : false\n",
        "print(x1 is not x2)\n",
        "\n",
        "# Output : True\n",
        "print(x2 is y2)\n",
        "\n",
        "# Output : False\n",
        "print(x3 is y3)"
      ],
      "metadata": {
        "colab": {
          "base_uri": "https://localhost:8080/"
        },
        "id": "sr8DCZks_gp-",
        "outputId": "344cae16-737a-4fb5-db38-8917d6b5dd83"
      },
      "execution_count": null,
      "outputs": [
        {
          "output_type": "stream",
          "name": "stdout",
          "text": [
            "True\n",
            "True\n",
            "False\n"
          ]
        }
      ]
    },
    {
      "cell_type": "markdown",
      "source": [
        "Conditional operators: Write a program to find that your age is eligible for voting or no"
      ],
      "metadata": {
        "id": "4L-a3IsUBVO5"
      }
    },
    {
      "cell_type": "code",
      "source": [
        "age = 19\n",
        "if age >= 18:\n",
        "  print('You are old enough to vote!')"
      ],
      "metadata": {
        "colab": {
          "base_uri": "https://localhost:8080/"
        },
        "id": "LZHeD1ROBhK_",
        "outputId": "8694a421-ec9a-4be0-9293-c18ee29a675a"
      },
      "execution_count": null,
      "outputs": [
        {
          "output_type": "stream",
          "name": "stdout",
          "text": [
            "You are old enough to vote!\n"
          ]
        }
      ]
    },
    {
      "cell_type": "markdown",
      "source": [
        "Condidtional = else"
      ],
      "metadata": {
        "id": "lR_5nbHyDwQH"
      }
    },
    {
      "cell_type": "code",
      "source": [
        "age = 17\n",
        "if age >= 18:\n",
        "  #Executes if true\n",
        "  print(\"You are old enough to vote!\")\n",
        "  else:\n",
        "    #Executes if false\n",
        "    print(\"Sorry, you are too young to vote.\")"
      ],
      "metadata": {
        "colab": {
          "base_uri": "https://localhost:8080/",
          "height": 130
        },
        "id": "nHLekSmVD9Nn",
        "outputId": "a14c62be-9ba5-448d-c194-efa8c4995423"
      },
      "execution_count": null,
      "outputs": [
        {
          "output_type": "error",
          "ename": "SyntaxError",
          "evalue": "ignored",
          "traceback": [
            "\u001b[0;36m  File \u001b[0;32m\"<ipython-input-15-b4cf74110908>\"\u001b[0;36m, line \u001b[0;32m5\u001b[0m\n\u001b[0;31m    else:\u001b[0m\n\u001b[0m       ^\u001b[0m\n\u001b[0;31mSyntaxError\u001b[0m\u001b[0;31m:\u001b[0m invalid syntax\n"
          ]
        }
      ]
    },
    {
      "cell_type": "markdown",
      "source": [
        "min : minimum"
      ],
      "metadata": {
        "id": "dKhunjsJFkEd"
      }
    },
    {
      "cell_type": "code",
      "source": [
        "#Declare two numbers in two variables\n",
        "a, b = 10, 20\n",
        "# Copy value of a in min if a < b else copy b\n",
        "min=a\n",
        "if a<b:\n",
        " min=a\n",
        "else:\n",
        " min=b\n",
        "print ('The minimum value is '+str(min))"
      ],
      "metadata": {
        "colab": {
          "base_uri": "https://localhost:8080/"
        },
        "id": "AnFgAvcCE15t",
        "outputId": "abc27287-81c0-4541-af46-a505ba9a3757"
      },
      "execution_count": null,
      "outputs": [
        {
          "output_type": "stream",
          "name": "stdout",
          "text": [
            "The minimum value is 10\n"
          ]
        }
      ]
    },
    {
      "cell_type": "markdown",
      "source": [
        "if-else chain statement:"
      ],
      "metadata": {
        "id": "i_KXIX1xF8sA"
      }
    },
    {
      "cell_type": "code",
      "source": [
        "print('Enter your age')\n",
        "age=int(input())\n",
        "\n",
        "if age < 4:\n",
        "  print(\"Your admission cost is $0.\")\n",
        "elif age < 18:\n",
        "  print(\"Your admission cost is $25.\")\n",
        "else:\n",
        "  print(\"Your admission cost is $40.\")"
      ],
      "metadata": {
        "colab": {
          "base_uri": "https://localhost:8080/"
        },
        "id": "wrgCVa7hGC2T",
        "outputId": "f9bd534a-85f8-4110-9cba-87b26c712283"
      },
      "execution_count": null,
      "outputs": [
        {
          "output_type": "stream",
          "name": "stdout",
          "text": [
            "Enter your age\n",
            "20\n",
            "Your admission cost is $40.\n"
          ]
        }
      ]
    },
    {
      "cell_type": "markdown",
      "source": [
        "Operations : in and not in in a list"
      ],
      "metadata": {
        "id": "50UV1-ByOo09"
      }
    },
    {
      "cell_type": "code",
      "source": [
        "#Declare two variables named a and b\n",
        "a = 24\n",
        "b = 20\n",
        "list = [10,20,30,40,50]\n",
        "\n",
        "if (a not in list):\n",
        "  print(\"a is NOT prsent in the list\")\n",
        "  #24 is not given in the sequence so print\n",
        " else\n",
        "  print('a is in list') \n",
        "\n",
        "  if (b in list)\n",
        "  print('b is present in given list')\n",
        "\n"
      ],
      "metadata": {
        "colab": {
          "base_uri": "https://localhost:8080/",
          "height": 130
        },
        "id": "kJxR2RZBOxFm",
        "outputId": "dfccedd0-49cc-416e-844e-ccbacbc16a73"
      },
      "execution_count": null,
      "outputs": [
        {
          "output_type": "error",
          "ename": "IndentationError",
          "evalue": "ignored",
          "traceback": [
            "\u001b[0;36m  File \u001b[0;32m\"<tokenize>\"\u001b[0;36m, line \u001b[0;32m9\u001b[0m\n\u001b[0;31m    else\u001b[0m\n\u001b[0m    ^\u001b[0m\n\u001b[0;31mIndentationError\u001b[0m\u001b[0;31m:\u001b[0m unindent does not match any outer indentation level\n"
          ]
        }
      ]
    },
    {
      "cell_type": "markdown",
      "source": [
        "modifying elements in a list:\n"
      ],
      "metadata": {
        "id": "GVPvXA0bTB9L"
      }
    },
    {
      "cell_type": "code",
      "source": [
        "countries = [\"Turkey\", \"Morraco\", \"California\"] #string list\n",
        "countries[0] = \"France\" #The first element is replaced by france\n",
        "print(countries)"
      ],
      "metadata": {
        "colab": {
          "base_uri": "https://localhost:8080/"
        },
        "id": "H-hLCciIUHlo",
        "outputId": "d62f3535-c57e-4780-c7b0-84999a35cb43"
      },
      "execution_count": null,
      "outputs": [
        {
          "output_type": "stream",
          "name": "stdout",
          "text": [
            "['France', 'Morraco', 'California']\n"
          ]
        }
      ]
    },
    {
      "cell_type": "markdown",
      "source": [
        "Exercise "
      ],
      "metadata": {
        "id": "W5DhDcMTWOA9"
      }
    }
  ]
}