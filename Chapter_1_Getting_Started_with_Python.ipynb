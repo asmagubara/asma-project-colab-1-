{
  "nbformat": 4,
  "nbformat_minor": 0,
  "metadata": {
    "colab": {
      "provenance": [],
      "collapsed_sections": [],
      "authorship_tag": "ABX9TyPIlomSzPypYT/hJMOnsyH6",
      "include_colab_link": true
    },
    "kernelspec": {
      "name": "python3",
      "display_name": "Python 3"
    },
    "language_info": {
      "name": "python"
    }
  },
  "cells": [
    {
      "cell_type": "markdown",
      "metadata": {
        "id": "view-in-github",
        "colab_type": "text"
      },
      "source": [
        "<a href=\"https://colab.research.google.com/github/asmagubara/asma-project-colab-1-/blob/main/Chapter_1_Getting_Started_with_Python.ipynb\" target=\"_parent\"><img src=\"https://colab.research.google.com/assets/colab-badge.svg\" alt=\"Open In Colab\"/></a>"
      ]
    },
    {
      "cell_type": "markdown",
      "source": [
        "Exercise 1: Print Strings \n",
        "\n",
        "Write a Python program to print the following string in a specific format."
      ],
      "metadata": {
        "id": "x5m1bumCyXRD"
      }
    },
    {
      "cell_type": "code",
      "source": [
        "#write the poem in python language.\n",
        "print(\"twinkle twinkle little star\")\n",
        "print(\"how i winder what you are\")\n",
        "print(\"up above the world so high\")\n",
        "print(\"like a diamond in the sky\")"
      ],
      "metadata": {
        "colab": {
          "base_uri": "https://localhost:8080/"
        },
        "id": "VIf3mPQzyfD9",
        "outputId": "37b185f3-2e95-4a1a-c553-cd4c3bcbcf77"
      },
      "execution_count": null,
      "outputs": [
        {
          "output_type": "stream",
          "name": "stdout",
          "text": [
            "twinkle twinkle little star\n",
            "how i winder what you are\n",
            "up above the world so high\n",
            "like a diamond in the sky\n"
          ]
        }
      ]
    },
    {
      "cell_type": "markdown",
      "source": [
        "Exerise 2:Print the Version of Python\n",
        "\n",
        "Write a Python program to get the Python version you are using.\n"
      ],
      "metadata": {
        "id": "sz7FgTvIy9ck"
      }
    },
    {
      "cell_type": "code",
      "source": [
        "# write the python version by importing sys.\n",
        "import sys\n",
        "print(\"python version\")\n",
        "print(sys.version)\n",
        "print(\"version.info\")\n",
        "print(sys.version_info)\n"
      ],
      "metadata": {
        "colab": {
          "base_uri": "https://localhost:8080/"
        },
        "id": "vYD8AHv0ILNo",
        "outputId": "d27d7911-b957-44b8-86d2-70a417cc968e"
      },
      "execution_count": null,
      "outputs": [
        {
          "output_type": "stream",
          "name": "stdout",
          "text": [
            "python version\n",
            "3.7.14 (default, Sep  8 2022, 00:06:44) \n",
            "[GCC 7.5.0]\n",
            "version.info\n",
            "sys.version_info(major=3, minor=7, micro=14, releaselevel='final', serial=0)\n"
          ]
        }
      ]
    },
    {
      "cell_type": "markdown",
      "source": [
        "Exercise 3:Print date and Time\n",
        "\n",
        "Write a Python program to display the current date and time."
      ],
      "metadata": {
        "id": "-WIbXlRH_B5d"
      }
    },
    {
      "cell_type": "code",
      "source": [
        "# print a pyth that displays the current date and time\n",
        "\n",
        "from datetime import date\n",
        "today = date.today()\n",
        "print(\"today's date:\" ,today)"
      ],
      "metadata": {
        "colab": {
          "base_uri": "https://localhost:8080/"
        },
        "id": "LOpZePmP_4WP",
        "outputId": "e050c40c-c1c6-4a03-bcfe-3060837597b7"
      },
      "execution_count": 3,
      "outputs": [
        {
          "output_type": "stream",
          "name": "stdout",
          "text": [
            "today's date: 2022-11-04\n"
          ]
        }
      ]
    },
    {
      "cell_type": "code",
      "source": [
        "from datetime import date\n",
        "#dd/mm/yy\n",
        "d1 = today.strftime(\"%d/%m/%y\")\n",
        "print(\"d1=\",d1)"
      ],
      "metadata": {
        "colab": {
          "base_uri": "https://localhost:8080/"
        },
        "id": "ZuHB0gBkAM4Z",
        "outputId": "82e3486b-32f3-45a6-b858-b6ee9b32b963"
      },
      "execution_count": null,
      "outputs": [
        {
          "output_type": "stream",
          "name": "stdout",
          "text": [
            "d1= 07/10/22\n"
          ]
        }
      ]
    },
    {
      "cell_type": "code",
      "source": [
        "from datetime import date\n",
        "#mm/dd/yy\n",
        "d2 = today.strftime(\"%m/%d/%y\")\n",
        "print(\"d2=\" ,d2)"
      ],
      "metadata": {
        "colab": {
          "base_uri": "https://localhost:8080/"
        },
        "id": "W7TfmjKnBPsn",
        "outputId": "086edce1-c969-463b-f8cc-b931d2fc3db0"
      },
      "execution_count": null,
      "outputs": [
        {
          "output_type": "stream",
          "name": "stdout",
          "text": [
            "d2= 10/07/22\n"
          ]
        }
      ]
    },
    {
      "cell_type": "markdown",
      "source": [
        "Excersise 4:Strings Concatination\n",
        "\n",
        "Write three strings in different variables and print the output as one string."
      ],
      "metadata": {
        "id": "lq5rc5iNCFHR"
      }
    },
    {
      "cell_type": "code",
      "source": [
        "a,b,c= 95,70,93\n",
        "print(a) # 95\n",
        "print(b) # 70\n",
        "print(c) #93"
      ],
      "metadata": {
        "colab": {
          "base_uri": "https://localhost:8080/"
        },
        "id": "lFILF5uBCNod",
        "outputId": "a6e7f1b5-052c-4423-87e7-0abb46a18e7d"
      },
      "execution_count": null,
      "outputs": [
        {
          "output_type": "stream",
          "name": "stdout",
          "text": [
            "95\n",
            "70\n",
            "93\n"
          ]
        }
      ]
    },
    {
      "cell_type": "markdown",
      "source": [
        "Exercise 5:Compute area of Circle\n",
        "\n",
        "Write a Python program which accepts the radius of a circle from the user and compute the area."
      ],
      "metadata": {
        "id": "9ticEHGzCFEG"
      }
    },
    {
      "cell_type": "code",
      "source": [
        "# input the area of the circle\n",
        "r = input(\"Enter radius\")\n",
        "area = 3.14*int(r)**2\n",
        "print(area)"
      ],
      "metadata": {
        "colab": {
          "base_uri": "https://localhost:8080/"
        },
        "id": "7AwI1FmrFtAj",
        "outputId": "a7b36441-569e-44b7-b705-e9f55a9af4e3"
      },
      "execution_count": 4,
      "outputs": [
        {
          "output_type": "stream",
          "name": "stdout",
          "text": [
            "Enter radius9\n",
            "254.34\n"
          ]
        }
      ]
    }
  ]
}