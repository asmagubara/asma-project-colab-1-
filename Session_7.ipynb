{
  "nbformat": 4,
  "nbformat_minor": 0,
  "metadata": {
    "colab": {
      "provenance": [],
      "authorship_tag": "ABX9TyOefvElwmDVue8xtHHmZKQQ",
      "include_colab_link": true
    },
    "kernelspec": {
      "name": "python3",
      "display_name": "Python 3"
    },
    "language_info": {
      "name": "python"
    }
  },
  "cells": [
    {
      "cell_type": "markdown",
      "metadata": {
        "id": "view-in-github",
        "colab_type": "text"
      },
      "source": [
        "<a href=\"https://colab.research.google.com/github/asmagubara/asma-project-colab-1-/blob/main/Session_7.ipynb\" target=\"_parent\"><img src=\"https://colab.research.google.com/assets/colab-badge.svg\" alt=\"Open In Colab\"/></a>"
      ]
    },
    {
      "cell_type": "markdown",
      "source": [
        "program 1: write a program to print a number only if its positive"
      ],
      "metadata": {
        "id": "CT4bVEQv1_Ul"
      }
    },
    {
      "cell_type": "code",
      "source": [
        "a=-5\n",
        "if a>0:\n",
        "  print(a)"
      ],
      "metadata": {
        "id": "0t-2Cc8u2NRd"
      },
      "execution_count": null,
      "outputs": []
    },
    {
      "cell_type": "code",
      "source": [
        "a=5\n",
        "if a>0:\n",
        "  print(a)"
      ],
      "metadata": {
        "colab": {
          "base_uri": "https://localhost:8080/"
        },
        "id": "2IG6qkfE3u3A",
        "outputId": "b8e4c618-cf42-4fab-a099-ef0f6e310436"
      },
      "execution_count": null,
      "outputs": [
        {
          "output_type": "stream",
          "name": "stdout",
          "text": [
            "5\n"
          ]
        }
      ]
    },
    {
      "cell_type": "markdown",
      "source": [
        "Program 2: Take two numbers from the user and print the first number only its smaller than the second number:"
      ],
      "metadata": {
        "id": "Mf6PY3mA3TUq"
      }
    },
    {
      "cell_type": "code",
      "source": [
        "print('Enter 1st number: ')\n",
        "x=int(input())\n",
        "print('Enter 2nd number: ')\n",
        "y=int(input())\n",
        " if x<y:\n",
        "   print()"
      ],
      "metadata": {
        "id": "euynkH0l3gNX"
      },
      "execution_count": null,
      "outputs": []
    },
    {
      "cell_type": "markdown",
      "source": [
        "program 3: Take two numbers from the user, compare and print the smaller number"
      ],
      "metadata": {
        "id": "QZ4-9uum7Qwa"
      }
    },
    {
      "cell_type": "code",
      "source": [
        "print(\"Enter 1st number\")\n",
        "a=int(input())\n",
        "print(\"Enter 2nd number\")\n",
        "b=int(input())\n",
        "\n",
        "if a<b:\n",
        "  print(a,'is smaller than',b)\n",
        "else:\n",
        "  print(b,'is smaller than',a)\n"
      ],
      "metadata": {
        "colab": {
          "base_uri": "https://localhost:8080/"
        },
        "id": "l6mRGrhN7aRH",
        "outputId": "13373645-4332-44f4-fe0a-a1c0c1584596"
      },
      "execution_count": null,
      "outputs": [
        {
          "output_type": "stream",
          "name": "stdout",
          "text": [
            "Enter 1st number\n",
            "7\n",
            "Enter 2nd number\n",
            "1\n",
            "1 is smaller than 7\n"
          ]
        }
      ]
    },
    {
      "cell_type": "markdown",
      "source": [
        "Program 5:\n",
        "write a number for a shipment company giving the following offer- for US:$50 for first 50 shipments and $25 for more than 50 shipments \n",
        "for Australia: $150 for first 10 shipment and $15 for more than 100 shipments"
      ],
      "metadata": {
        "id": "7AxAmZxM89VL"
      }
    },
    {
      "cell_type": "code",
      "source": [
        "print('Select country: US/Australia')\n",
        "country=str(input())\n",
        "print('Enter the number of shipments')\n",
        "shipment=int(input())\n",
        "\n",
        "if country==\"US\":\n",
        "  if shipment<=50:\n",
        "    print('Shipping cost is $50')\n",
        "   elif shipment>50:\n",
        "     print('Shipment cost $25')\n",
        "  else:\n",
        "    print('Please contact our customer service.')\n",
        "  \n",
        "      "
      ],
      "metadata": {
        "colab": {
          "base_uri": "https://localhost:8080/",
          "height": 130
        },
        "id": "KNO9u-3jEY-4",
        "outputId": "9fa6d192-bb11-4743-ddbc-239de2e3ca5f"
      },
      "execution_count": null,
      "outputs": [
        {
          "output_type": "error",
          "ename": "IndentationError",
          "evalue": "ignored",
          "traceback": [
            "\u001b[0;36m  File \u001b[0;32m\"<tokenize>\"\u001b[0;36m, line \u001b[0;32m9\u001b[0m\n\u001b[0;31m    elif shipment>50:\u001b[0m\n\u001b[0m    ^\u001b[0m\n\u001b[0;31mIndentationError\u001b[0m\u001b[0;31m:\u001b[0m unindent does not match any outer indentation level\n"
          ]
        }
      ]
    },
    {
      "cell_type": "markdown",
      "source": [
        "Program 6:"
      ],
      "metadata": {
        "id": "_K0vAq-ZPJOR"
      }
    },
    {
      "cell_type": "code",
      "source": [
        "#list of flowers\n",
        "flowers=['rose','daisy','tulip']\n",
        "#print the list of the flowers \n",
        "print(flowers)\n",
        "\n",
        "#Access basics of the list\n",
        "print(flowers[0])\n",
        "print(flowers[1])\n",
        "print(flowers[2])\n",
        "\n",
        "#replace the s element of the list\n",
        "flowers[0]='Camellia'\n",
        "print(flowers)\n",
        "\n",
        "#Add an element at the end of the list use append() function\n",
        "flowers.append('liily')\n",
        "print(flowers)\n",
        "\n",
        "#insert elemnts in  the list use insert() function\n",
        "flowers.insert(0,'Sunflower')\n",
        "flowers.insert(3,'Hibiscus')\n",
        "print(flowers)\n",
        "\n",
        "#Remove element in the list using value\n",
        "print(flowers)\n",
        "flowers.remove('Sunflower')\n",
        "print(flowers)\n",
        "\n",
        "#Remove list element in the list using pop() function\n",
        "popped=flowers.pop()\n",
        "print(flowers)\n",
        "\n",
        "#print the popped element\n",
        "print(popped)\n",
        "\n",
        "#sort list in alphabetical order\n",
        "print(flowers)\n",
        "flowers.sort()\n",
        "print(flowers)\n",
        "\n"
      ],
      "metadata": {
        "colab": {
          "base_uri": "https://localhost:8080/"
        },
        "id": "hxb1lVFUQzf_",
        "outputId": "6b0abbec-3e9e-41c5-f459-8b67cd2d1df5"
      },
      "execution_count": null,
      "outputs": [
        {
          "output_type": "stream",
          "name": "stdout",
          "text": [
            "['rose', 'daisy', 'tulip']\n",
            "rose\n",
            "daisy\n",
            "tulip\n",
            "['Camellia', 'daisy', 'tulip']\n",
            "['Camellia', 'daisy', 'tulip', 'liily']\n",
            "['Sunflower', 'Camellia', 'daisy', 'Hibiscus', 'tulip', 'liily']\n",
            "['Sunflower', 'Camellia', 'daisy', 'Hibiscus', 'tulip', 'liily']\n",
            "['Camellia', 'daisy', 'Hibiscus', 'tulip', 'liily']\n",
            "['Camellia', 'daisy', 'Hibiscus', 'tulip']\n",
            "liily\n",
            "['Camellia', 'daisy', 'Hibiscus', 'tulip']\n",
            "['Camellia', 'Hibiscus', 'daisy', 'tulip']\n"
          ]
        }
      ]
    },
    {
      "cell_type": "markdown",
      "source": [
        "Dictionary:\n",
        "write a program to create a dictionary comprimising of name, id, course. "
      ],
      "metadata": {
        "id": "WChd28ZXW-to"
      }
    },
    {
      "cell_type": "code",
      "source": [
        "student={'Name':'Katrina Kaif','id':12,'course':'creative computing'}\n",
        "print(student)\n",
        "print(student['Name'])\n",
        "print(student['id'])\n",
        "print(student['course'])\n"
      ],
      "metadata": {
        "colab": {
          "base_uri": "https://localhost:8080/"
        },
        "id": "9cTDZpvnX4LE",
        "outputId": "7aca0fb0-852a-45d2-8821-02e812034b8d"
      },
      "execution_count": null,
      "outputs": [
        {
          "output_type": "stream",
          "name": "stdout",
          "text": [
            "{'Name': 'Katrina Kiaf', 'id': 12, 'course': 'creative computing'}\n",
            "Katrina Kiaf\n",
            "12\n",
            "creative computing\n"
          ]
        }
      ]
    },
    {
      "cell_type": "code",
      "source": [
        "glossary = {'concatenate': 'to link together in a series or chain','loop': 'a ring or curved piece used to form a fastening, handle, or catch',}"
      ],
      "metadata": {
        "id": "2CR37mIfaCQw"
      },
      "execution_count": null,
      "outputs": []
    }
  ]
}