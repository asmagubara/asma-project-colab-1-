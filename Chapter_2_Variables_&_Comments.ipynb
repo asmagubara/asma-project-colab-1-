{
  "nbformat": 4,
  "nbformat_minor": 0,
  "metadata": {
    "colab": {
      "provenance": [],
      "collapsed_sections": [],
      "authorship_tag": "ABX9TyM7fas0LUOQJlvY6KmrqAB2",
      "include_colab_link": true
    },
    "kernelspec": {
      "name": "python3",
      "display_name": "Python 3"
    },
    "language_info": {
      "name": "python"
    }
  },
  "cells": [
    {
      "cell_type": "markdown",
      "metadata": {
        "id": "view-in-github",
        "colab_type": "text"
      },
      "source": [
        "<a href=\"https://colab.research.google.com/github/asmagubara/asma-project-colab-1-/blob/main/Chapter_2_Variables_%26_Comments.ipynb\" target=\"_parent\"><img src=\"https://colab.research.google.com/assets/colab-badge.svg\" alt=\"Open In Colab\"/></a>"
      ]
    },
    {
      "cell_type": "markdown",
      "source": [
        "Exercise 1:Variables\n",
        " \n",
        "Type out the code below and add the correct data types to complete the variables.\n",
        "Assign a message to a variable, and print that message.\n",
        "Then change the value of the variable to a new message, and print the new\n",
        "message.\n"
      ],
      "metadata": {
        "id": "YgshVuyCYe2B"
      }
    },
    {
      "cell_type": "code",
      "source": [
        "#input the variable to print the message\n",
        "sentence1= \"My sister's birthady was on Friday, 7 of October\" \n",
        "print(sentence1)"
      ],
      "metadata": {
        "colab": {
          "base_uri": "https://localhost:8080/"
        },
        "id": "p1s1pdaTRuQu",
        "outputId": "4ed64d18-7c1f-482b-c651-24f60c7cd0d5"
      },
      "execution_count": null,
      "outputs": [
        {
          "output_type": "stream",
          "name": "stdout",
          "text": [
            "My sister's birthady was on Friday, 7 of October\n"
          ]
        }
      ]
    },
    {
      "cell_type": "markdown",
      "source": [
        "Exercise 2: Variables\n",
        "\n",
        "Find a quote from a famous person you admire. Print the quote and the name of its author.\n",
        "\n",
        "Your output should look something like the following, including the quotation marks:\n",
        "\n",
        "Albert Einstein once said, “A person who never made a mistake never tried anything new."
      ],
      "metadata": {
        "id": "T-R8WccVLEu_"
      }
    },
    {
      "cell_type": "code",
      "source": [
        " # write a famous quote of a famous person nad print it.\n",
        " famous_person = \"John F. Kennedy\"\n",
        "quote = \" \\\" those who dare to fail miserably can achieve greatly.\\\" \"\n",
        "print(\"{0} once said, {1}\".format(famous_person, quote))"
      ],
      "metadata": {
        "colab": {
          "base_uri": "https://localhost:8080/"
        },
        "id": "lLyv9r3SWagM",
        "outputId": "add9c2d7-9152-4dd3-c15b-a788653422a0"
      },
      "execution_count": null,
      "outputs": [
        {
          "output_type": "stream",
          "name": "stdout",
          "text": [
            "John F. Kennedy once said,  \" those who dare to fail miserably can achieve greatly.\" \n"
          ]
        }
      ]
    },
    {
      "cell_type": "markdown",
      "source": [
        "Exercise 3: Stripping names\n",
        "\n",
        "Tidy up the code to make it easier to understand\n",
        "\n",
        "Use a variable to represent a person’s name, and include some whitespace characters at the beginning and end of the name. Make sure you use each character combination, “\\t” and “\\n”, at least once.\n",
        "\n",
        "Print the name once, so the whitespace around the name is displayed.\n",
        "\n",
        "Then print the name using each of the three stripping functions, lstrip(), rstrip(), and strip().\n"
      ],
      "metadata": {
        "id": "Vnqf_4NiZ4ML"
      }
    },
    {
      "cell_type": "code",
      "source": [
        "name = \"\\tSelena Gomez\\n\"\n",
        "print(\"Unmodified:\")\n",
        "print(name)\n",
        "\n",
        "print(\"\\nUsing lstrip():\")\n",
        "print(name.lstrip())\n",
        "\n",
        "print(\"\\nUsing rstrip():\")\n",
        "print(name.rstrip())\n",
        "\n",
        "print(\"\\nUsing strip():\")\n",
        "print(name.strip())"
      ],
      "metadata": {
        "colab": {
          "base_uri": "https://localhost:8080/"
        },
        "id": "JB4Kae5fZ7qb",
        "outputId": "0a2e5ffb-f1aa-4217-80a2-73dab2788c64"
      },
      "execution_count": null,
      "outputs": [
        {
          "output_type": "stream",
          "name": "stdout",
          "text": [
            "Unmodified:\n",
            "\tSelena Gomez\n",
            "\n",
            "\n",
            "Using lstrip():\n",
            "Selena Gomez\n",
            "\n",
            "\n",
            "Using rstrip():\n",
            "\tSelena Gomez\n",
            "\n",
            "Using strip():\n",
            "Selena Gomez\n"
          ]
        }
      ]
    },
    {
      "cell_type": "markdown",
      "source": [
        "Exercise 4:Favorite number\n",
        " Use a variable to represent your favorite number. Then,using that variable, create a message that reveals your favorite number. Print\n",
        "that message."
      ],
      "metadata": {
        "id": "rl-2SqPyg3fM"
      }
    },
    {
      "cell_type": "code",
      "source": [
        "# write down your favorite number\n",
        "favorite_number = 89\n",
        "print(\"My favorite_number is {}\".format(favorite_number))"
      ],
      "metadata": {
        "colab": {
          "base_uri": "https://localhost:8080/"
        },
        "id": "y3Esh0lhg6C8",
        "outputId": "11e5ee74-9638-4ea6-c724-99154814afa6"
      },
      "execution_count": null,
      "outputs": [
        {
          "output_type": "stream",
          "name": "stdout",
          "text": [
            "My favorite_number is 89\n"
          ]
        }
      ]
    },
    {
      "cell_type": "markdown",
      "source": [
        "Exercise 5: USB Shopper\n",
        "A girl heads to a computer shop to buy some USB sticks. She loves USB sticks and wants as many as she can get for £50. They are £6 each.\n",
        "\n",
        "Write a programme that calculates how many USB sticks she can buy and how many pounds she will have left.\n",
        "\n",
        "You will to use the arithmetic operators to complete this exercise."
      ],
      "metadata": {
        "id": "bq3Hk0WGKUvD"
      }
    },
    {
      "cell_type": "code",
      "source": [
        "#Conversation between thw shopkeeper and the girl\n",
        "print('A beautiful girl went to the shop to buy a USB\\nGirl:what is the price of an USB?\\nShopper=$6\\nGirl:please give me USB sticks for $50')\n",
        "No_of_USB=50//6\n",
        "Money_back=50%6\n",
        "print('The shopkeeper gives the girl '+str(No_of_USB)+'USBs'+' and returns her '+str(Money_back)+'$')\n",
        "print('The shopkeeper gives the girl '+str(50//60)+' USBs'+' and returns her '+str(50%6)+'$')\n"
      ],
      "metadata": {
        "id": "znzRJJGoiQDM",
        "colab": {
          "base_uri": "https://localhost:8080/"
        },
        "outputId": "362ff9b4-7fc6-453c-dc61-f2b642ce572b"
      },
      "execution_count": null,
      "outputs": [
        {
          "output_type": "stream",
          "name": "stdout",
          "text": [
            "A beautiful girl went to the shop to buy a USB\n",
            "Girl:what is the price of an USB?\n",
            "Shopper=$6\n",
            "Girl:please give me USB sticks for $50\n",
            "The shopkeeper gives the girl 8USBs and returns her 2$\n",
            "The shopkeeper gives the girl 0 USBs and returns her 2$\n"
          ]
        }
      ]
    }
  ]
}